{
 "cells": [
  {
   "cell_type": "markdown",
   "metadata": {
    "toc": true
   },
   "source": [
    "<h1>Содержание<span class=\"tocSkip\"></span></h1>\n",
    "<div class=\"toc\"><ul class=\"toc-item\"><li><span><a href=\"#Изучение-данных-из-файла\" data-toc-modified-id=\"Изучение-данных-из-файла-1\"><span class=\"toc-item-num\">1&nbsp;&nbsp;</span>Изучение данных из файла</a></span><ul class=\"toc-item\"><li><span><a href=\"#Вывод\" data-toc-modified-id=\"Вывод-1.1\"><span class=\"toc-item-num\">1.1&nbsp;&nbsp;</span>Вывод</a></span></li></ul></li><li><span><a href=\"#Предобработка-данных\" data-toc-modified-id=\"Предобработка-данных-2\"><span class=\"toc-item-num\">2&nbsp;&nbsp;</span>Предобработка данных</a></span></li><li><span><a href=\"#Расчёты-и-добавление-результатов-в-таблицу\" data-toc-modified-id=\"Расчёты-и-добавление-результатов-в-таблицу-3\"><span class=\"toc-item-num\">3&nbsp;&nbsp;</span>Расчёты и добавление результатов в таблицу</a></span></li><li><span><a href=\"#Исследовательский-анализ-данных\" data-toc-modified-id=\"Исследовательский-анализ-данных-4\"><span class=\"toc-item-num\">4&nbsp;&nbsp;</span>Исследовательский анализ данных</a></span></li><li><span><a href=\"#Общий-вывод\" data-toc-modified-id=\"Общий-вывод-5\"><span class=\"toc-item-num\">5&nbsp;&nbsp;</span>Общий вывод</a></span></li><li><span><a href=\"#Чек-лист-готовности-проекта\" data-toc-modified-id=\"Чек-лист-готовности-проекта-6\"><span class=\"toc-item-num\">6&nbsp;&nbsp;</span>Чек-лист готовности проекта</a></span></li></ul></div>"
   ]
  },
  {
   "cell_type": "markdown",
   "metadata": {},
   "source": [
    "# Исследование объявлений о продаже квартир\n",
    "\n",
    "В вашем распоряжении данные сервиса Яндекс.Недвижимость — архив объявлений о продаже квартир в Санкт-Петербурге и соседних населённых пунктах за несколько лет. Нужно научиться определять рыночную стоимость объектов недвижимости. Ваша задача — установить параметры. Это позволит построить автоматизированную систему: она отследит аномалии и мошенническую деятельность. \n",
    "\n",
    "По каждой квартире на продажу доступны два вида данных. Первые вписаны пользователем, вторые получены автоматически на основе картографических данных. Например, расстояние до центра, аэропорта, ближайшего парка и водоёма. "
   ]
  },
  {
   "cell_type": "markdown",
   "metadata": {},
   "source": [
    "## Изучение данных из файла"
   ]
  },
  {
   "cell_type": "code",
   "execution_count": 71,
   "metadata": {},
   "outputs": [
    {
     "name": "stdout",
     "output_type": "stream",
     "text": [
      "<class 'pandas.core.frame.DataFrame'>\n",
      "RangeIndex: 23699 entries, 0 to 23698\n",
      "Data columns (total 22 columns):\n",
      "total_images            23699 non-null int64\n",
      "last_price              23699 non-null float64\n",
      "total_area              23699 non-null float64\n",
      "first_day_exposition    23699 non-null object\n",
      "rooms                   23699 non-null int64\n",
      "ceiling_height          14504 non-null float64\n",
      "floors_total            23613 non-null float64\n",
      "living_area             21796 non-null float64\n",
      "floor                   23699 non-null int64\n",
      "is_apartment            2775 non-null object\n",
      "studio                  23699 non-null bool\n",
      "open_plan               23699 non-null bool\n",
      "kitchen_area            21421 non-null float64\n",
      "balcony                 12180 non-null float64\n",
      "locality_name           23650 non-null object\n",
      "airports_nearest        18157 non-null float64\n",
      "cityCenters_nearest     18180 non-null float64\n",
      "parks_around3000        18181 non-null float64\n",
      "parks_nearest           8079 non-null float64\n",
      "ponds_around3000        18181 non-null float64\n",
      "ponds_nearest           9110 non-null float64\n",
      "days_exposition         20518 non-null float64\n",
      "dtypes: bool(2), float64(14), int64(3), object(3)\n",
      "memory usage: 3.7+ MB\n"
     ]
    },
    {
     "data": {
      "text/html": [
       "<div>\n",
       "<style scoped>\n",
       "    .dataframe tbody tr th:only-of-type {\n",
       "        vertical-align: middle;\n",
       "    }\n",
       "\n",
       "    .dataframe tbody tr th {\n",
       "        vertical-align: top;\n",
       "    }\n",
       "\n",
       "    .dataframe thead th {\n",
       "        text-align: right;\n",
       "    }\n",
       "</style>\n",
       "<table border=\"1\" class=\"dataframe\">\n",
       "  <thead>\n",
       "    <tr style=\"text-align: right;\">\n",
       "      <th></th>\n",
       "      <th>total_images</th>\n",
       "      <th>last_price</th>\n",
       "      <th>total_area</th>\n",
       "      <th>first_day_exposition</th>\n",
       "      <th>rooms</th>\n",
       "      <th>ceiling_height</th>\n",
       "      <th>floors_total</th>\n",
       "      <th>living_area</th>\n",
       "      <th>floor</th>\n",
       "      <th>is_apartment</th>\n",
       "      <th>...</th>\n",
       "      <th>kitchen_area</th>\n",
       "      <th>balcony</th>\n",
       "      <th>locality_name</th>\n",
       "      <th>airports_nearest</th>\n",
       "      <th>cityCenters_nearest</th>\n",
       "      <th>parks_around3000</th>\n",
       "      <th>parks_nearest</th>\n",
       "      <th>ponds_around3000</th>\n",
       "      <th>ponds_nearest</th>\n",
       "      <th>days_exposition</th>\n",
       "    </tr>\n",
       "  </thead>\n",
       "  <tbody>\n",
       "    <tr>\n",
       "      <td>0</td>\n",
       "      <td>20</td>\n",
       "      <td>13000000.0</td>\n",
       "      <td>108.00</td>\n",
       "      <td>2019-03-07T00:00:00</td>\n",
       "      <td>3</td>\n",
       "      <td>2.70</td>\n",
       "      <td>16.0</td>\n",
       "      <td>51.00</td>\n",
       "      <td>8</td>\n",
       "      <td>NaN</td>\n",
       "      <td>...</td>\n",
       "      <td>25.00</td>\n",
       "      <td>NaN</td>\n",
       "      <td>Санкт-Петербург</td>\n",
       "      <td>18863.0</td>\n",
       "      <td>16028.0</td>\n",
       "      <td>1.0</td>\n",
       "      <td>482.0</td>\n",
       "      <td>2.0</td>\n",
       "      <td>755.0</td>\n",
       "      <td>NaN</td>\n",
       "    </tr>\n",
       "    <tr>\n",
       "      <td>1</td>\n",
       "      <td>7</td>\n",
       "      <td>3350000.0</td>\n",
       "      <td>40.40</td>\n",
       "      <td>2018-12-04T00:00:00</td>\n",
       "      <td>1</td>\n",
       "      <td>NaN</td>\n",
       "      <td>11.0</td>\n",
       "      <td>18.60</td>\n",
       "      <td>1</td>\n",
       "      <td>NaN</td>\n",
       "      <td>...</td>\n",
       "      <td>11.00</td>\n",
       "      <td>2.0</td>\n",
       "      <td>посёлок Шушары</td>\n",
       "      <td>12817.0</td>\n",
       "      <td>18603.0</td>\n",
       "      <td>0.0</td>\n",
       "      <td>NaN</td>\n",
       "      <td>0.0</td>\n",
       "      <td>NaN</td>\n",
       "      <td>81.0</td>\n",
       "    </tr>\n",
       "    <tr>\n",
       "      <td>2</td>\n",
       "      <td>10</td>\n",
       "      <td>5196000.0</td>\n",
       "      <td>56.00</td>\n",
       "      <td>2015-08-20T00:00:00</td>\n",
       "      <td>2</td>\n",
       "      <td>NaN</td>\n",
       "      <td>5.0</td>\n",
       "      <td>34.30</td>\n",
       "      <td>4</td>\n",
       "      <td>NaN</td>\n",
       "      <td>...</td>\n",
       "      <td>8.30</td>\n",
       "      <td>0.0</td>\n",
       "      <td>Санкт-Петербург</td>\n",
       "      <td>21741.0</td>\n",
       "      <td>13933.0</td>\n",
       "      <td>1.0</td>\n",
       "      <td>90.0</td>\n",
       "      <td>2.0</td>\n",
       "      <td>574.0</td>\n",
       "      <td>558.0</td>\n",
       "    </tr>\n",
       "    <tr>\n",
       "      <td>3</td>\n",
       "      <td>0</td>\n",
       "      <td>64900000.0</td>\n",
       "      <td>159.00</td>\n",
       "      <td>2015-07-24T00:00:00</td>\n",
       "      <td>3</td>\n",
       "      <td>NaN</td>\n",
       "      <td>14.0</td>\n",
       "      <td>NaN</td>\n",
       "      <td>9</td>\n",
       "      <td>NaN</td>\n",
       "      <td>...</td>\n",
       "      <td>NaN</td>\n",
       "      <td>0.0</td>\n",
       "      <td>Санкт-Петербург</td>\n",
       "      <td>28098.0</td>\n",
       "      <td>6800.0</td>\n",
       "      <td>2.0</td>\n",
       "      <td>84.0</td>\n",
       "      <td>3.0</td>\n",
       "      <td>234.0</td>\n",
       "      <td>424.0</td>\n",
       "    </tr>\n",
       "    <tr>\n",
       "      <td>4</td>\n",
       "      <td>2</td>\n",
       "      <td>10000000.0</td>\n",
       "      <td>100.00</td>\n",
       "      <td>2018-06-19T00:00:00</td>\n",
       "      <td>2</td>\n",
       "      <td>3.03</td>\n",
       "      <td>14.0</td>\n",
       "      <td>32.00</td>\n",
       "      <td>13</td>\n",
       "      <td>NaN</td>\n",
       "      <td>...</td>\n",
       "      <td>41.00</td>\n",
       "      <td>NaN</td>\n",
       "      <td>Санкт-Петербург</td>\n",
       "      <td>31856.0</td>\n",
       "      <td>8098.0</td>\n",
       "      <td>2.0</td>\n",
       "      <td>112.0</td>\n",
       "      <td>1.0</td>\n",
       "      <td>48.0</td>\n",
       "      <td>121.0</td>\n",
       "    </tr>\n",
       "    <tr>\n",
       "      <td>5</td>\n",
       "      <td>10</td>\n",
       "      <td>2890000.0</td>\n",
       "      <td>30.40</td>\n",
       "      <td>2018-09-10T00:00:00</td>\n",
       "      <td>1</td>\n",
       "      <td>NaN</td>\n",
       "      <td>12.0</td>\n",
       "      <td>14.40</td>\n",
       "      <td>5</td>\n",
       "      <td>NaN</td>\n",
       "      <td>...</td>\n",
       "      <td>9.10</td>\n",
       "      <td>NaN</td>\n",
       "      <td>городской посёлок Янино-1</td>\n",
       "      <td>NaN</td>\n",
       "      <td>NaN</td>\n",
       "      <td>NaN</td>\n",
       "      <td>NaN</td>\n",
       "      <td>NaN</td>\n",
       "      <td>NaN</td>\n",
       "      <td>55.0</td>\n",
       "    </tr>\n",
       "    <tr>\n",
       "      <td>6</td>\n",
       "      <td>6</td>\n",
       "      <td>3700000.0</td>\n",
       "      <td>37.30</td>\n",
       "      <td>2017-11-02T00:00:00</td>\n",
       "      <td>1</td>\n",
       "      <td>NaN</td>\n",
       "      <td>26.0</td>\n",
       "      <td>10.60</td>\n",
       "      <td>6</td>\n",
       "      <td>NaN</td>\n",
       "      <td>...</td>\n",
       "      <td>14.40</td>\n",
       "      <td>1.0</td>\n",
       "      <td>посёлок Парголово</td>\n",
       "      <td>52996.0</td>\n",
       "      <td>19143.0</td>\n",
       "      <td>0.0</td>\n",
       "      <td>NaN</td>\n",
       "      <td>0.0</td>\n",
       "      <td>NaN</td>\n",
       "      <td>155.0</td>\n",
       "    </tr>\n",
       "    <tr>\n",
       "      <td>7</td>\n",
       "      <td>5</td>\n",
       "      <td>7915000.0</td>\n",
       "      <td>71.60</td>\n",
       "      <td>2019-04-18T00:00:00</td>\n",
       "      <td>2</td>\n",
       "      <td>NaN</td>\n",
       "      <td>24.0</td>\n",
       "      <td>NaN</td>\n",
       "      <td>22</td>\n",
       "      <td>NaN</td>\n",
       "      <td>...</td>\n",
       "      <td>18.90</td>\n",
       "      <td>2.0</td>\n",
       "      <td>Санкт-Петербург</td>\n",
       "      <td>23982.0</td>\n",
       "      <td>11634.0</td>\n",
       "      <td>0.0</td>\n",
       "      <td>NaN</td>\n",
       "      <td>0.0</td>\n",
       "      <td>NaN</td>\n",
       "      <td>NaN</td>\n",
       "    </tr>\n",
       "    <tr>\n",
       "      <td>8</td>\n",
       "      <td>20</td>\n",
       "      <td>2900000.0</td>\n",
       "      <td>33.16</td>\n",
       "      <td>2018-05-23T00:00:00</td>\n",
       "      <td>1</td>\n",
       "      <td>NaN</td>\n",
       "      <td>27.0</td>\n",
       "      <td>15.43</td>\n",
       "      <td>26</td>\n",
       "      <td>NaN</td>\n",
       "      <td>...</td>\n",
       "      <td>8.81</td>\n",
       "      <td>NaN</td>\n",
       "      <td>посёлок Мурино</td>\n",
       "      <td>NaN</td>\n",
       "      <td>NaN</td>\n",
       "      <td>NaN</td>\n",
       "      <td>NaN</td>\n",
       "      <td>NaN</td>\n",
       "      <td>NaN</td>\n",
       "      <td>189.0</td>\n",
       "    </tr>\n",
       "    <tr>\n",
       "      <td>9</td>\n",
       "      <td>18</td>\n",
       "      <td>5400000.0</td>\n",
       "      <td>61.00</td>\n",
       "      <td>2017-02-26T00:00:00</td>\n",
       "      <td>3</td>\n",
       "      <td>2.50</td>\n",
       "      <td>9.0</td>\n",
       "      <td>43.60</td>\n",
       "      <td>7</td>\n",
       "      <td>NaN</td>\n",
       "      <td>...</td>\n",
       "      <td>6.50</td>\n",
       "      <td>2.0</td>\n",
       "      <td>Санкт-Петербург</td>\n",
       "      <td>50898.0</td>\n",
       "      <td>15008.0</td>\n",
       "      <td>0.0</td>\n",
       "      <td>NaN</td>\n",
       "      <td>0.0</td>\n",
       "      <td>NaN</td>\n",
       "      <td>289.0</td>\n",
       "    </tr>\n",
       "  </tbody>\n",
       "</table>\n",
       "<p>10 rows × 22 columns</p>\n",
       "</div>"
      ],
      "text/plain": [
       "   total_images  last_price  total_area first_day_exposition  rooms  \\\n",
       "0            20  13000000.0      108.00  2019-03-07T00:00:00      3   \n",
       "1             7   3350000.0       40.40  2018-12-04T00:00:00      1   \n",
       "2            10   5196000.0       56.00  2015-08-20T00:00:00      2   \n",
       "3             0  64900000.0      159.00  2015-07-24T00:00:00      3   \n",
       "4             2  10000000.0      100.00  2018-06-19T00:00:00      2   \n",
       "5            10   2890000.0       30.40  2018-09-10T00:00:00      1   \n",
       "6             6   3700000.0       37.30  2017-11-02T00:00:00      1   \n",
       "7             5   7915000.0       71.60  2019-04-18T00:00:00      2   \n",
       "8            20   2900000.0       33.16  2018-05-23T00:00:00      1   \n",
       "9            18   5400000.0       61.00  2017-02-26T00:00:00      3   \n",
       "\n",
       "   ceiling_height  floors_total  living_area  floor is_apartment  ...  \\\n",
       "0            2.70          16.0        51.00      8          NaN  ...   \n",
       "1             NaN          11.0        18.60      1          NaN  ...   \n",
       "2             NaN           5.0        34.30      4          NaN  ...   \n",
       "3             NaN          14.0          NaN      9          NaN  ...   \n",
       "4            3.03          14.0        32.00     13          NaN  ...   \n",
       "5             NaN          12.0        14.40      5          NaN  ...   \n",
       "6             NaN          26.0        10.60      6          NaN  ...   \n",
       "7             NaN          24.0          NaN     22          NaN  ...   \n",
       "8             NaN          27.0        15.43     26          NaN  ...   \n",
       "9            2.50           9.0        43.60      7          NaN  ...   \n",
       "\n",
       "   kitchen_area  balcony              locality_name  airports_nearest  \\\n",
       "0         25.00      NaN            Санкт-Петербург           18863.0   \n",
       "1         11.00      2.0             посёлок Шушары           12817.0   \n",
       "2          8.30      0.0            Санкт-Петербург           21741.0   \n",
       "3           NaN      0.0            Санкт-Петербург           28098.0   \n",
       "4         41.00      NaN            Санкт-Петербург           31856.0   \n",
       "5          9.10      NaN  городской посёлок Янино-1               NaN   \n",
       "6         14.40      1.0          посёлок Парголово           52996.0   \n",
       "7         18.90      2.0            Санкт-Петербург           23982.0   \n",
       "8          8.81      NaN             посёлок Мурино               NaN   \n",
       "9          6.50      2.0            Санкт-Петербург           50898.0   \n",
       "\n",
       "  cityCenters_nearest  parks_around3000  parks_nearest  ponds_around3000  \\\n",
       "0             16028.0               1.0          482.0               2.0   \n",
       "1             18603.0               0.0            NaN               0.0   \n",
       "2             13933.0               1.0           90.0               2.0   \n",
       "3              6800.0               2.0           84.0               3.0   \n",
       "4              8098.0               2.0          112.0               1.0   \n",
       "5                 NaN               NaN            NaN               NaN   \n",
       "6             19143.0               0.0            NaN               0.0   \n",
       "7             11634.0               0.0            NaN               0.0   \n",
       "8                 NaN               NaN            NaN               NaN   \n",
       "9             15008.0               0.0            NaN               0.0   \n",
       "\n",
       "   ponds_nearest  days_exposition  \n",
       "0          755.0              NaN  \n",
       "1            NaN             81.0  \n",
       "2          574.0            558.0  \n",
       "3          234.0            424.0  \n",
       "4           48.0            121.0  \n",
       "5            NaN             55.0  \n",
       "6            NaN            155.0  \n",
       "7            NaN              NaN  \n",
       "8            NaN            189.0  \n",
       "9            NaN            289.0  \n",
       "\n",
       "[10 rows x 22 columns]"
      ]
     },
     "metadata": {},
     "output_type": "display_data"
    }
   ],
   "source": [
    "import pandas as pd # импортируем библиотеки\n",
    "\n",
    "import math\n",
    "\n",
    "import matplotlib.pyplot as plt\n",
    "\n",
    "data = pd.read_csv('/datasets/real_estate_data.csv', sep = \"\\t\") # считываем данные, указываем требуемый разделитель\n",
    "\n",
    "data.info() # оцениваем данные\n",
    "\n",
    "display(data.head(10))"
   ]
  },
  {
   "cell_type": "markdown",
   "metadata": {},
   "source": [
    "### Вывод"
   ]
  },
  {
   "cell_type": "markdown",
   "metadata": {},
   "source": [
    "Глядя на информацию по данным, можно увидеть, что всего в нашем распоряжении 23699 объявлений. Команда info дала нам информацию о каждом столбце в таблице, рассмотрим их подробнее:\n",
    "\n",
    "1) total_images  - пропущенных значений нет, есть нули, но это не проблема \n",
    "\n",
    "2) last_price  - здесь тоже пропусков нету\n",
    "\n",
    "3) total_area - аналогично, пропусков нет\n",
    "\n",
    "4) first_day_exposition - всё так же, нету пропусков, но надо перевести данные в дату, причём округлить до дней\n",
    "\n",
    "5) rooms - и здесь нету пропусков\n",
    "\n",
    "6) ceiling_height - здесь довольно много пропусков, видимо не все указывают высоту потолков. Восстановить эту информацию крайне проблематично, к тому же она нам не сильно нужна. Поступим следующим образом: Заменим все NaN на специальное значение, чтобы при работе с данным столбцом не учитывать эти значения\n",
    "\n",
    "7) floors_total - количество этажей в доме. В случаях, когда он не указан (а их немного) можно считать, что квартира, которая продаётся по объявлению в этом доме не будет находится на последнем этаже, иначе бы данный параметр обязательно бы указали. Для определённости также заменим на специальное значение, которые не учтём в расчётах. Надо перевести в int\n",
    "\n",
    "8) living_area - жилая площадь. Здесь уже можно попробовать восстановить данные путём замены NaN на среднее значение по данному количеству комнат\n",
    "\n",
    "9) floor - здесь всё в порядке на первый взгляд\n",
    "\n",
    "10) is_apartment - очень много пропусков, скорее всего если нету значения - значит не аппартаменты. Потом надо перевести в bool\n",
    "\n",
    "11) studio - здесь всё в порядке\n",
    "\n",
    "12) open_plan - данные на месте\n",
    "\n",
    "13) kitchen_area - данных немного не хватает, можно поступить таким же путём с заменой на среднее значение, но если не указана площадь кухни и метраж квартиры - то надо будет убирать такие данные\n",
    "\n",
    "14) balcony  - если не указано, то скорее всего нету. Значит, заменим на 0. Переведём в int\n",
    "\n",
    "15) locality_name - Если нету, то запишем как unknown\n",
    "\n",
    "16) airports_nearest - если не указано, будем считать что их нету (поставим большую величину для категоризации)\n",
    "\n",
    "17) cityCenters_nearest - если не указано, будем считать что их нету (поставим большую величину для категоризации)\n",
    "\n",
    "18) parks_around3000 - если не указано, значит считаем что нет (заменим на ноль) и переведём в int\n",
    "\n",
    "19) parks_nearest - если нету, значит укажем большую величину для категоризации\n",
    "\n",
    "20) ponds_around3000 - если не указано, значит считаем что нет (заменим на ноль) и переведём в int\n",
    "\n",
    "21) ponds_nearest - если нету, значит укажем большую величину для категоризации\n",
    "\n",
    "22) days_exposition - при категоризации можем указать минимальное значение вместо пропусков, переведём в int"
   ]
  },
  {
   "cell_type": "markdown",
   "metadata": {},
   "source": [
    "## Предобработка данных"
   ]
  },
  {
   "cell_type": "code",
   "execution_count": 72,
   "metadata": {},
   "outputs": [
    {
     "data": {
      "text/html": [
       "<div>\n",
       "<style scoped>\n",
       "    .dataframe tbody tr th:only-of-type {\n",
       "        vertical-align: middle;\n",
       "    }\n",
       "\n",
       "    .dataframe tbody tr th {\n",
       "        vertical-align: top;\n",
       "    }\n",
       "\n",
       "    .dataframe thead th {\n",
       "        text-align: right;\n",
       "    }\n",
       "</style>\n",
       "<table border=\"1\" class=\"dataframe\">\n",
       "  <thead>\n",
       "    <tr style=\"text-align: right;\">\n",
       "      <th></th>\n",
       "      <th>total_images</th>\n",
       "      <th>last_price</th>\n",
       "      <th>total_area</th>\n",
       "      <th>first_day_exposition</th>\n",
       "      <th>rooms</th>\n",
       "      <th>ceiling_height</th>\n",
       "      <th>floors_total</th>\n",
       "      <th>living_area</th>\n",
       "      <th>floor</th>\n",
       "      <th>is_apartment</th>\n",
       "      <th>...</th>\n",
       "      <th>kitchen_area</th>\n",
       "      <th>balcony</th>\n",
       "      <th>locality_name</th>\n",
       "      <th>airports_nearest</th>\n",
       "      <th>cityCenters_nearest</th>\n",
       "      <th>parks_around3000</th>\n",
       "      <th>parks_nearest</th>\n",
       "      <th>ponds_around3000</th>\n",
       "      <th>ponds_nearest</th>\n",
       "      <th>days_exposition</th>\n",
       "    </tr>\n",
       "  </thead>\n",
       "  <tbody>\n",
       "    <tr>\n",
       "      <td>3</td>\n",
       "      <td>0</td>\n",
       "      <td>64900000.0</td>\n",
       "      <td>159.0</td>\n",
       "      <td>2015-07-24</td>\n",
       "      <td>3</td>\n",
       "      <td>0.00</td>\n",
       "      <td>14</td>\n",
       "      <td>NaN</td>\n",
       "      <td>9</td>\n",
       "      <td>False</td>\n",
       "      <td>...</td>\n",
       "      <td>NaN</td>\n",
       "      <td>0</td>\n",
       "      <td>Санкт-Петербург</td>\n",
       "      <td>28098.0</td>\n",
       "      <td>6800.0</td>\n",
       "      <td>2</td>\n",
       "      <td>84.0</td>\n",
       "      <td>3</td>\n",
       "      <td>234.0</td>\n",
       "      <td>424</td>\n",
       "    </tr>\n",
       "    <tr>\n",
       "      <td>30</td>\n",
       "      <td>12</td>\n",
       "      <td>2200000.0</td>\n",
       "      <td>32.8</td>\n",
       "      <td>2018-02-19</td>\n",
       "      <td>1</td>\n",
       "      <td>0.00</td>\n",
       "      <td>9</td>\n",
       "      <td>NaN</td>\n",
       "      <td>2</td>\n",
       "      <td>False</td>\n",
       "      <td>...</td>\n",
       "      <td>NaN</td>\n",
       "      <td>0</td>\n",
       "      <td>Коммунар</td>\n",
       "      <td>1000000.0</td>\n",
       "      <td>1000000.0</td>\n",
       "      <td>0</td>\n",
       "      <td>1000000.0</td>\n",
       "      <td>0</td>\n",
       "      <td>1000000.0</td>\n",
       "      <td>63</td>\n",
       "    </tr>\n",
       "    <tr>\n",
       "      <td>37</td>\n",
       "      <td>10</td>\n",
       "      <td>1990000.0</td>\n",
       "      <td>45.8</td>\n",
       "      <td>2017-10-28</td>\n",
       "      <td>2</td>\n",
       "      <td>2.50</td>\n",
       "      <td>5</td>\n",
       "      <td>NaN</td>\n",
       "      <td>1</td>\n",
       "      <td>False</td>\n",
       "      <td>...</td>\n",
       "      <td>NaN</td>\n",
       "      <td>0</td>\n",
       "      <td>поселок городского типа Красный Бор</td>\n",
       "      <td>1000000.0</td>\n",
       "      <td>1000000.0</td>\n",
       "      <td>0</td>\n",
       "      <td>1000000.0</td>\n",
       "      <td>0</td>\n",
       "      <td>1000000.0</td>\n",
       "      <td>196</td>\n",
       "    </tr>\n",
       "    <tr>\n",
       "      <td>44</td>\n",
       "      <td>13</td>\n",
       "      <td>5350000.0</td>\n",
       "      <td>40.0</td>\n",
       "      <td>2018-11-18</td>\n",
       "      <td>1</td>\n",
       "      <td>0.00</td>\n",
       "      <td>22</td>\n",
       "      <td>NaN</td>\n",
       "      <td>3</td>\n",
       "      <td>False</td>\n",
       "      <td>...</td>\n",
       "      <td>NaN</td>\n",
       "      <td>1</td>\n",
       "      <td>Санкт-Петербург</td>\n",
       "      <td>30471.0</td>\n",
       "      <td>11603.0</td>\n",
       "      <td>1</td>\n",
       "      <td>620.0</td>\n",
       "      <td>1</td>\n",
       "      <td>1152.0</td>\n",
       "      <td>0</td>\n",
       "    </tr>\n",
       "    <tr>\n",
       "      <td>59</td>\n",
       "      <td>15</td>\n",
       "      <td>6300000.0</td>\n",
       "      <td>46.5</td>\n",
       "      <td>2017-03-06</td>\n",
       "      <td>1</td>\n",
       "      <td>0.00</td>\n",
       "      <td>13</td>\n",
       "      <td>NaN</td>\n",
       "      <td>13</td>\n",
       "      <td>False</td>\n",
       "      <td>...</td>\n",
       "      <td>NaN</td>\n",
       "      <td>0</td>\n",
       "      <td>Санкт-Петербург</td>\n",
       "      <td>11125.0</td>\n",
       "      <td>14501.0</td>\n",
       "      <td>0</td>\n",
       "      <td>1000000.0</td>\n",
       "      <td>0</td>\n",
       "      <td>1000000.0</td>\n",
       "      <td>336</td>\n",
       "    </tr>\n",
       "    <tr>\n",
       "      <td>...</td>\n",
       "      <td>...</td>\n",
       "      <td>...</td>\n",
       "      <td>...</td>\n",
       "      <td>...</td>\n",
       "      <td>...</td>\n",
       "      <td>...</td>\n",
       "      <td>...</td>\n",
       "      <td>...</td>\n",
       "      <td>...</td>\n",
       "      <td>...</td>\n",
       "      <td>...</td>\n",
       "      <td>...</td>\n",
       "      <td>...</td>\n",
       "      <td>...</td>\n",
       "      <td>...</td>\n",
       "      <td>...</td>\n",
       "      <td>...</td>\n",
       "      <td>...</td>\n",
       "      <td>...</td>\n",
       "      <td>...</td>\n",
       "      <td>...</td>\n",
       "    </tr>\n",
       "    <tr>\n",
       "      <td>23632</td>\n",
       "      <td>20</td>\n",
       "      <td>5000000.0</td>\n",
       "      <td>38.0</td>\n",
       "      <td>2018-06-23</td>\n",
       "      <td>1</td>\n",
       "      <td>2.55</td>\n",
       "      <td>16</td>\n",
       "      <td>NaN</td>\n",
       "      <td>15</td>\n",
       "      <td>False</td>\n",
       "      <td>...</td>\n",
       "      <td>NaN</td>\n",
       "      <td>1</td>\n",
       "      <td>Санкт-Петербург</td>\n",
       "      <td>31118.0</td>\n",
       "      <td>7257.0</td>\n",
       "      <td>1</td>\n",
       "      <td>241.0</td>\n",
       "      <td>1</td>\n",
       "      <td>230.0</td>\n",
       "      <td>113</td>\n",
       "    </tr>\n",
       "    <tr>\n",
       "      <td>23642</td>\n",
       "      <td>14</td>\n",
       "      <td>5950000.0</td>\n",
       "      <td>80.3</td>\n",
       "      <td>2018-07-03</td>\n",
       "      <td>3</td>\n",
       "      <td>2.70</td>\n",
       "      <td>12</td>\n",
       "      <td>NaN</td>\n",
       "      <td>5</td>\n",
       "      <td>False</td>\n",
       "      <td>...</td>\n",
       "      <td>NaN</td>\n",
       "      <td>0</td>\n",
       "      <td>Колпино</td>\n",
       "      <td>27933.0</td>\n",
       "      <td>33719.0</td>\n",
       "      <td>0</td>\n",
       "      <td>1000000.0</td>\n",
       "      <td>2</td>\n",
       "      <td>562.0</td>\n",
       "      <td>60</td>\n",
       "    </tr>\n",
       "    <tr>\n",
       "      <td>23663</td>\n",
       "      <td>12</td>\n",
       "      <td>6400000.0</td>\n",
       "      <td>88.0</td>\n",
       "      <td>2018-01-12</td>\n",
       "      <td>4</td>\n",
       "      <td>2.55</td>\n",
       "      <td>10</td>\n",
       "      <td>NaN</td>\n",
       "      <td>1</td>\n",
       "      <td>False</td>\n",
       "      <td>...</td>\n",
       "      <td>NaN</td>\n",
       "      <td>0</td>\n",
       "      <td>Санкт-Петербург</td>\n",
       "      <td>33642.0</td>\n",
       "      <td>13943.0</td>\n",
       "      <td>0</td>\n",
       "      <td>1000000.0</td>\n",
       "      <td>2</td>\n",
       "      <td>844.0</td>\n",
       "      <td>59</td>\n",
       "    </tr>\n",
       "    <tr>\n",
       "      <td>23670</td>\n",
       "      <td>9</td>\n",
       "      <td>2450000.0</td>\n",
       "      <td>45.6</td>\n",
       "      <td>2018-02-08</td>\n",
       "      <td>1</td>\n",
       "      <td>2.80</td>\n",
       "      <td>9</td>\n",
       "      <td>NaN</td>\n",
       "      <td>2</td>\n",
       "      <td>False</td>\n",
       "      <td>...</td>\n",
       "      <td>NaN</td>\n",
       "      <td>0</td>\n",
       "      <td>поселок городского типа Синявино</td>\n",
       "      <td>1000000.0</td>\n",
       "      <td>1000000.0</td>\n",
       "      <td>0</td>\n",
       "      <td>1000000.0</td>\n",
       "      <td>0</td>\n",
       "      <td>1000000.0</td>\n",
       "      <td>45</td>\n",
       "    </tr>\n",
       "    <tr>\n",
       "      <td>23679</td>\n",
       "      <td>0</td>\n",
       "      <td>2500000.0</td>\n",
       "      <td>35.0</td>\n",
       "      <td>2017-12-08</td>\n",
       "      <td>1</td>\n",
       "      <td>0.00</td>\n",
       "      <td>9</td>\n",
       "      <td>NaN</td>\n",
       "      <td>4</td>\n",
       "      <td>False</td>\n",
       "      <td>...</td>\n",
       "      <td>NaN</td>\n",
       "      <td>0</td>\n",
       "      <td>Сосновый Бор</td>\n",
       "      <td>1000000.0</td>\n",
       "      <td>1000000.0</td>\n",
       "      <td>0</td>\n",
       "      <td>1000000.0</td>\n",
       "      <td>0</td>\n",
       "      <td>1000000.0</td>\n",
       "      <td>45</td>\n",
       "    </tr>\n",
       "  </tbody>\n",
       "</table>\n",
       "<p>1464 rows × 22 columns</p>\n",
       "</div>"
      ],
      "text/plain": [
       "       total_images  last_price  total_area first_day_exposition  rooms  \\\n",
       "3                 0  64900000.0       159.0           2015-07-24      3   \n",
       "30               12   2200000.0        32.8           2018-02-19      1   \n",
       "37               10   1990000.0        45.8           2017-10-28      2   \n",
       "44               13   5350000.0        40.0           2018-11-18      1   \n",
       "59               15   6300000.0        46.5           2017-03-06      1   \n",
       "...             ...         ...         ...                  ...    ...   \n",
       "23632            20   5000000.0        38.0           2018-06-23      1   \n",
       "23642            14   5950000.0        80.3           2018-07-03      3   \n",
       "23663            12   6400000.0        88.0           2018-01-12      4   \n",
       "23670             9   2450000.0        45.6           2018-02-08      1   \n",
       "23679             0   2500000.0        35.0           2017-12-08      1   \n",
       "\n",
       "       ceiling_height  floors_total  living_area  floor  is_apartment  ...  \\\n",
       "3                0.00            14          NaN      9         False  ...   \n",
       "30               0.00             9          NaN      2         False  ...   \n",
       "37               2.50             5          NaN      1         False  ...   \n",
       "44               0.00            22          NaN      3         False  ...   \n",
       "59               0.00            13          NaN     13         False  ...   \n",
       "...               ...           ...          ...    ...           ...  ...   \n",
       "23632            2.55            16          NaN     15         False  ...   \n",
       "23642            2.70            12          NaN      5         False  ...   \n",
       "23663            2.55            10          NaN      1         False  ...   \n",
       "23670            2.80             9          NaN      2         False  ...   \n",
       "23679            0.00             9          NaN      4         False  ...   \n",
       "\n",
       "       kitchen_area  balcony                        locality_name  \\\n",
       "3               NaN        0                      Санкт-Петербург   \n",
       "30              NaN        0                             Коммунар   \n",
       "37              NaN        0  поселок городского типа Красный Бор   \n",
       "44              NaN        1                      Санкт-Петербург   \n",
       "59              NaN        0                      Санкт-Петербург   \n",
       "...             ...      ...                                  ...   \n",
       "23632           NaN        1                      Санкт-Петербург   \n",
       "23642           NaN        0                              Колпино   \n",
       "23663           NaN        0                      Санкт-Петербург   \n",
       "23670           NaN        0     поселок городского типа Синявино   \n",
       "23679           NaN        0                         Сосновый Бор   \n",
       "\n",
       "       airports_nearest cityCenters_nearest  parks_around3000  parks_nearest  \\\n",
       "3               28098.0              6800.0                 2           84.0   \n",
       "30            1000000.0           1000000.0                 0      1000000.0   \n",
       "37            1000000.0           1000000.0                 0      1000000.0   \n",
       "44              30471.0             11603.0                 1          620.0   \n",
       "59              11125.0             14501.0                 0      1000000.0   \n",
       "...                 ...                 ...               ...            ...   \n",
       "23632           31118.0              7257.0                 1          241.0   \n",
       "23642           27933.0             33719.0                 0      1000000.0   \n",
       "23663           33642.0             13943.0                 0      1000000.0   \n",
       "23670         1000000.0           1000000.0                 0      1000000.0   \n",
       "23679         1000000.0           1000000.0                 0      1000000.0   \n",
       "\n",
       "       ponds_around3000  ponds_nearest  days_exposition  \n",
       "3                     3          234.0              424  \n",
       "30                    0      1000000.0               63  \n",
       "37                    0      1000000.0              196  \n",
       "44                    1         1152.0                0  \n",
       "59                    0      1000000.0              336  \n",
       "...                 ...            ...              ...  \n",
       "23632                 1          230.0              113  \n",
       "23642                 2          562.0               60  \n",
       "23663                 2          844.0               59  \n",
       "23670                 0      1000000.0               45  \n",
       "23679                 0      1000000.0               45  \n",
       "\n",
       "[1464 rows x 22 columns]"
      ]
     },
     "metadata": {},
     "output_type": "display_data"
    },
    {
     "name": "stdout",
     "output_type": "stream",
     "text": [
      "<class 'pandas.core.frame.DataFrame'>\n",
      "Int64Index: 22235 entries, 0 to 23698\n",
      "Data columns (total 24 columns):\n",
      "total_images            22235 non-null int64\n",
      "last_price              22235 non-null float64\n",
      "total_area              22235 non-null float64\n",
      "first_day_exposition    22235 non-null datetime64[ns]\n",
      "rooms                   22235 non-null int64\n",
      "ceiling_height          22235 non-null float64\n",
      "floors_total            22235 non-null int64\n",
      "living_area             22235 non-null float64\n",
      "floor                   22235 non-null int64\n",
      "is_apartment            22235 non-null bool\n",
      "studio                  22235 non-null bool\n",
      "open_plan               22235 non-null bool\n",
      "kitchen_area            22235 non-null float64\n",
      "balcony                 22235 non-null int64\n",
      "locality_name           22235 non-null object\n",
      "airports_nearest        22235 non-null float64\n",
      "cityCenters_nearest     22235 non-null float64\n",
      "parks_around3000        22235 non-null int64\n",
      "parks_nearest           22235 non-null float64\n",
      "ponds_around3000        22235 non-null int64\n",
      "ponds_nearest           22235 non-null float64\n",
      "days_exposition         22235 non-null int64\n",
      "kitchensize             22235 non-null object\n",
      "livingsize              22235 non-null object\n",
      "dtypes: bool(3), datetime64[ns](1), float64(9), int64(8), object(3)\n",
      "memory usage: 3.8+ MB\n"
     ]
    },
    {
     "data": {
      "text/html": [
       "<div>\n",
       "<style scoped>\n",
       "    .dataframe tbody tr th:only-of-type {\n",
       "        vertical-align: middle;\n",
       "    }\n",
       "\n",
       "    .dataframe tbody tr th {\n",
       "        vertical-align: top;\n",
       "    }\n",
       "\n",
       "    .dataframe thead th {\n",
       "        text-align: right;\n",
       "    }\n",
       "</style>\n",
       "<table border=\"1\" class=\"dataframe\">\n",
       "  <thead>\n",
       "    <tr style=\"text-align: right;\">\n",
       "      <th></th>\n",
       "      <th>total_images</th>\n",
       "      <th>last_price</th>\n",
       "      <th>total_area</th>\n",
       "      <th>first_day_exposition</th>\n",
       "      <th>rooms</th>\n",
       "      <th>ceiling_height</th>\n",
       "      <th>floors_total</th>\n",
       "      <th>living_area</th>\n",
       "      <th>floor</th>\n",
       "      <th>is_apartment</th>\n",
       "      <th>...</th>\n",
       "      <th>locality_name</th>\n",
       "      <th>airports_nearest</th>\n",
       "      <th>cityCenters_nearest</th>\n",
       "      <th>parks_around3000</th>\n",
       "      <th>parks_nearest</th>\n",
       "      <th>ponds_around3000</th>\n",
       "      <th>ponds_nearest</th>\n",
       "      <th>days_exposition</th>\n",
       "      <th>kitchensize</th>\n",
       "      <th>livingsize</th>\n",
       "    </tr>\n",
       "  </thead>\n",
       "  <tbody>\n",
       "    <tr>\n",
       "      <td>0</td>\n",
       "      <td>20</td>\n",
       "      <td>13000000.0</td>\n",
       "      <td>108.00</td>\n",
       "      <td>2019-03-07</td>\n",
       "      <td>3</td>\n",
       "      <td>2.70</td>\n",
       "      <td>16</td>\n",
       "      <td>51.000000</td>\n",
       "      <td>8</td>\n",
       "      <td>False</td>\n",
       "      <td>...</td>\n",
       "      <td>Санкт-Петербург</td>\n",
       "      <td>18863.0</td>\n",
       "      <td>16028.0</td>\n",
       "      <td>1</td>\n",
       "      <td>482.0</td>\n",
       "      <td>2</td>\n",
       "      <td>755.0</td>\n",
       "      <td>0</td>\n",
       "      <td>большая</td>\n",
       "      <td>большая</td>\n",
       "    </tr>\n",
       "    <tr>\n",
       "      <td>1</td>\n",
       "      <td>7</td>\n",
       "      <td>3350000.0</td>\n",
       "      <td>40.40</td>\n",
       "      <td>2018-12-04</td>\n",
       "      <td>1</td>\n",
       "      <td>0.00</td>\n",
       "      <td>11</td>\n",
       "      <td>18.600000</td>\n",
       "      <td>1</td>\n",
       "      <td>False</td>\n",
       "      <td>...</td>\n",
       "      <td>посёлок Шушары</td>\n",
       "      <td>12817.0</td>\n",
       "      <td>18603.0</td>\n",
       "      <td>0</td>\n",
       "      <td>1000000.0</td>\n",
       "      <td>0</td>\n",
       "      <td>1000000.0</td>\n",
       "      <td>81</td>\n",
       "      <td>больше средней</td>\n",
       "      <td>средняя</td>\n",
       "    </tr>\n",
       "    <tr>\n",
       "      <td>2</td>\n",
       "      <td>10</td>\n",
       "      <td>5196000.0</td>\n",
       "      <td>56.00</td>\n",
       "      <td>2015-08-20</td>\n",
       "      <td>2</td>\n",
       "      <td>0.00</td>\n",
       "      <td>5</td>\n",
       "      <td>34.300000</td>\n",
       "      <td>4</td>\n",
       "      <td>False</td>\n",
       "      <td>...</td>\n",
       "      <td>Санкт-Петербург</td>\n",
       "      <td>21741.0</td>\n",
       "      <td>13933.0</td>\n",
       "      <td>1</td>\n",
       "      <td>90.0</td>\n",
       "      <td>2</td>\n",
       "      <td>574.0</td>\n",
       "      <td>558</td>\n",
       "      <td>средняя</td>\n",
       "      <td>больше средней</td>\n",
       "    </tr>\n",
       "    <tr>\n",
       "      <td>4</td>\n",
       "      <td>2</td>\n",
       "      <td>10000000.0</td>\n",
       "      <td>100.00</td>\n",
       "      <td>2018-06-19</td>\n",
       "      <td>2</td>\n",
       "      <td>3.03</td>\n",
       "      <td>14</td>\n",
       "      <td>32.000000</td>\n",
       "      <td>13</td>\n",
       "      <td>False</td>\n",
       "      <td>...</td>\n",
       "      <td>Санкт-Петербург</td>\n",
       "      <td>31856.0</td>\n",
       "      <td>8098.0</td>\n",
       "      <td>2</td>\n",
       "      <td>112.0</td>\n",
       "      <td>1</td>\n",
       "      <td>48.0</td>\n",
       "      <td>121</td>\n",
       "      <td>большая</td>\n",
       "      <td>больше средней</td>\n",
       "    </tr>\n",
       "    <tr>\n",
       "      <td>5</td>\n",
       "      <td>10</td>\n",
       "      <td>2890000.0</td>\n",
       "      <td>30.40</td>\n",
       "      <td>2018-09-10</td>\n",
       "      <td>1</td>\n",
       "      <td>0.00</td>\n",
       "      <td>12</td>\n",
       "      <td>14.400000</td>\n",
       "      <td>5</td>\n",
       "      <td>False</td>\n",
       "      <td>...</td>\n",
       "      <td>городской посёлок Янино-1</td>\n",
       "      <td>1000000.0</td>\n",
       "      <td>1000000.0</td>\n",
       "      <td>0</td>\n",
       "      <td>1000000.0</td>\n",
       "      <td>0</td>\n",
       "      <td>1000000.0</td>\n",
       "      <td>55</td>\n",
       "      <td>средняя</td>\n",
       "      <td>маленькая</td>\n",
       "    </tr>\n",
       "    <tr>\n",
       "      <td>6</td>\n",
       "      <td>6</td>\n",
       "      <td>3700000.0</td>\n",
       "      <td>37.30</td>\n",
       "      <td>2017-11-02</td>\n",
       "      <td>1</td>\n",
       "      <td>0.00</td>\n",
       "      <td>26</td>\n",
       "      <td>10.600000</td>\n",
       "      <td>6</td>\n",
       "      <td>False</td>\n",
       "      <td>...</td>\n",
       "      <td>посёлок Парголово</td>\n",
       "      <td>52996.0</td>\n",
       "      <td>19143.0</td>\n",
       "      <td>0</td>\n",
       "      <td>1000000.0</td>\n",
       "      <td>0</td>\n",
       "      <td>1000000.0</td>\n",
       "      <td>155</td>\n",
       "      <td>больше средней</td>\n",
       "      <td>маленькая</td>\n",
       "    </tr>\n",
       "    <tr>\n",
       "      <td>7</td>\n",
       "      <td>5</td>\n",
       "      <td>7915000.0</td>\n",
       "      <td>71.60</td>\n",
       "      <td>2019-04-18</td>\n",
       "      <td>2</td>\n",
       "      <td>0.00</td>\n",
       "      <td>24</td>\n",
       "      <td>73.838477</td>\n",
       "      <td>22</td>\n",
       "      <td>False</td>\n",
       "      <td>...</td>\n",
       "      <td>Санкт-Петербург</td>\n",
       "      <td>23982.0</td>\n",
       "      <td>11634.0</td>\n",
       "      <td>0</td>\n",
       "      <td>1000000.0</td>\n",
       "      <td>0</td>\n",
       "      <td>1000000.0</td>\n",
       "      <td>0</td>\n",
       "      <td>большая</td>\n",
       "      <td>большая</td>\n",
       "    </tr>\n",
       "    <tr>\n",
       "      <td>8</td>\n",
       "      <td>20</td>\n",
       "      <td>2900000.0</td>\n",
       "      <td>33.16</td>\n",
       "      <td>2018-05-23</td>\n",
       "      <td>1</td>\n",
       "      <td>0.00</td>\n",
       "      <td>27</td>\n",
       "      <td>15.430000</td>\n",
       "      <td>26</td>\n",
       "      <td>False</td>\n",
       "      <td>...</td>\n",
       "      <td>посёлок Мурино</td>\n",
       "      <td>1000000.0</td>\n",
       "      <td>1000000.0</td>\n",
       "      <td>0</td>\n",
       "      <td>1000000.0</td>\n",
       "      <td>0</td>\n",
       "      <td>1000000.0</td>\n",
       "      <td>189</td>\n",
       "      <td>средняя</td>\n",
       "      <td>маленькая</td>\n",
       "    </tr>\n",
       "    <tr>\n",
       "      <td>9</td>\n",
       "      <td>18</td>\n",
       "      <td>5400000.0</td>\n",
       "      <td>61.00</td>\n",
       "      <td>2017-02-26</td>\n",
       "      <td>3</td>\n",
       "      <td>2.50</td>\n",
       "      <td>9</td>\n",
       "      <td>43.600000</td>\n",
       "      <td>7</td>\n",
       "      <td>False</td>\n",
       "      <td>...</td>\n",
       "      <td>Санкт-Петербург</td>\n",
       "      <td>50898.0</td>\n",
       "      <td>15008.0</td>\n",
       "      <td>0</td>\n",
       "      <td>1000000.0</td>\n",
       "      <td>0</td>\n",
       "      <td>1000000.0</td>\n",
       "      <td>289</td>\n",
       "      <td>средняя</td>\n",
       "      <td>больше средней</td>\n",
       "    </tr>\n",
       "    <tr>\n",
       "      <td>10</td>\n",
       "      <td>5</td>\n",
       "      <td>5050000.0</td>\n",
       "      <td>39.60</td>\n",
       "      <td>2017-11-16</td>\n",
       "      <td>1</td>\n",
       "      <td>2.67</td>\n",
       "      <td>12</td>\n",
       "      <td>20.300000</td>\n",
       "      <td>3</td>\n",
       "      <td>False</td>\n",
       "      <td>...</td>\n",
       "      <td>Санкт-Петербург</td>\n",
       "      <td>38357.0</td>\n",
       "      <td>13878.0</td>\n",
       "      <td>1</td>\n",
       "      <td>310.0</td>\n",
       "      <td>2</td>\n",
       "      <td>553.0</td>\n",
       "      <td>137</td>\n",
       "      <td>средняя</td>\n",
       "      <td>средняя</td>\n",
       "    </tr>\n",
       "  </tbody>\n",
       "</table>\n",
       "<p>10 rows × 24 columns</p>\n",
       "</div>"
      ],
      "text/plain": [
       "    total_images  last_price  total_area first_day_exposition  rooms  \\\n",
       "0             20  13000000.0      108.00           2019-03-07      3   \n",
       "1              7   3350000.0       40.40           2018-12-04      1   \n",
       "2             10   5196000.0       56.00           2015-08-20      2   \n",
       "4              2  10000000.0      100.00           2018-06-19      2   \n",
       "5             10   2890000.0       30.40           2018-09-10      1   \n",
       "6              6   3700000.0       37.30           2017-11-02      1   \n",
       "7              5   7915000.0       71.60           2019-04-18      2   \n",
       "8             20   2900000.0       33.16           2018-05-23      1   \n",
       "9             18   5400000.0       61.00           2017-02-26      3   \n",
       "10             5   5050000.0       39.60           2017-11-16      1   \n",
       "\n",
       "    ceiling_height  floors_total  living_area  floor  is_apartment  ...  \\\n",
       "0             2.70            16    51.000000      8         False  ...   \n",
       "1             0.00            11    18.600000      1         False  ...   \n",
       "2             0.00             5    34.300000      4         False  ...   \n",
       "4             3.03            14    32.000000     13         False  ...   \n",
       "5             0.00            12    14.400000      5         False  ...   \n",
       "6             0.00            26    10.600000      6         False  ...   \n",
       "7             0.00            24    73.838477     22         False  ...   \n",
       "8             0.00            27    15.430000     26         False  ...   \n",
       "9             2.50             9    43.600000      7         False  ...   \n",
       "10            2.67            12    20.300000      3         False  ...   \n",
       "\n",
       "                locality_name  airports_nearest  cityCenters_nearest  \\\n",
       "0             Санкт-Петербург           18863.0              16028.0   \n",
       "1              посёлок Шушары           12817.0              18603.0   \n",
       "2             Санкт-Петербург           21741.0              13933.0   \n",
       "4             Санкт-Петербург           31856.0               8098.0   \n",
       "5   городской посёлок Янино-1         1000000.0            1000000.0   \n",
       "6           посёлок Парголово           52996.0              19143.0   \n",
       "7             Санкт-Петербург           23982.0              11634.0   \n",
       "8              посёлок Мурино         1000000.0            1000000.0   \n",
       "9             Санкт-Петербург           50898.0              15008.0   \n",
       "10            Санкт-Петербург           38357.0              13878.0   \n",
       "\n",
       "    parks_around3000 parks_nearest  ponds_around3000  ponds_nearest  \\\n",
       "0                  1         482.0                 2          755.0   \n",
       "1                  0     1000000.0                 0      1000000.0   \n",
       "2                  1          90.0                 2          574.0   \n",
       "4                  2         112.0                 1           48.0   \n",
       "5                  0     1000000.0                 0      1000000.0   \n",
       "6                  0     1000000.0                 0      1000000.0   \n",
       "7                  0     1000000.0                 0      1000000.0   \n",
       "8                  0     1000000.0                 0      1000000.0   \n",
       "9                  0     1000000.0                 0      1000000.0   \n",
       "10                 1         310.0                 2          553.0   \n",
       "\n",
       "    days_exposition     kitchensize      livingsize  \n",
       "0                 0         большая         большая  \n",
       "1                81  больше средней         средняя  \n",
       "2               558         средняя  больше средней  \n",
       "4               121         большая  больше средней  \n",
       "5                55         средняя       маленькая  \n",
       "6               155  больше средней       маленькая  \n",
       "7                 0         большая         большая  \n",
       "8               189         средняя       маленькая  \n",
       "9               289         средняя  больше средней  \n",
       "10              137         средняя         средняя  \n",
       "\n",
       "[10 rows x 24 columns]"
      ]
     },
     "metadata": {},
     "output_type": "display_data"
    }
   ],
   "source": [
    "data[\"ceiling_height\"] = data[\"ceiling_height\"].fillna(0) # заменяем пропуски на специальное значение для отсеивания при оценке\n",
    "\n",
    "data[\"floors_total\"] = data[\"floors_total\"].fillna(0) # заменяем на специальное значение\n",
    "\n",
    "data['is_apartment'] = data['is_apartment'].fillna(False)\n",
    "\n",
    "data['balcony'] = data['balcony'].fillna(0)\n",
    "\n",
    "data['locality_name'] = data['locality_name'].fillna('unknown')\n",
    "\n",
    "data['airports_nearest'] = data['airports_nearest'].fillna(1000000) # заменяем на специальное значение\n",
    "\n",
    "data['cityCenters_nearest'] = data['cityCenters_nearest'].fillna(1000000) # заменяем на специальное значение\n",
    "\n",
    "data['parks_around3000'] = data['parks_around3000'].fillna(0)\n",
    "\n",
    "data['parks_nearest'] = data['parks_nearest'].fillna(1000000) # заменяем на специальное значение\n",
    "\n",
    "data['ponds_around3000'] = data['ponds_around3000'].fillna(0)\n",
    "\n",
    "data['ponds_nearest'] = data['ponds_nearest'].fillna(1000000) # заменяем на специальное значение\n",
    "\n",
    "data['days_exposition'] = data['days_exposition'].fillna(0) # заменяем на специальное значение\n",
    "\n",
    "# переведём значения в нужный нам тип данных \n",
    "\n",
    "data[\"first_day_exposition\"] = data[\"first_day_exposition\"].astype('datetime64') \n",
    "\n",
    "data[\"floors_total\"] = data[\"floors_total\"].astype('int')\n",
    "\n",
    "data[\"is_apartment\"] = data[\"is_apartment\"].astype('bool')\n",
    "\n",
    "data[\"balcony\"] = data[\"balcony\"].astype('int')\n",
    "\n",
    "data[\"parks_around3000\"] = data[\"parks_around3000\"].astype('int')\n",
    "\n",
    "data[\"ponds_around3000\"] = data[\"ponds_around3000\"].astype('int')\n",
    "\n",
    "data[\"days_exposition\"] = data[\"days_exposition\"].astype('int')\n",
    "\n",
    "# теперь заполним определёнными значениями те пропуски, где это возможно\n",
    "\n",
    "# сначала посмотрим на те строки, где отсутствует и площадь кухни и жилая площадь\n",
    "\n",
    "display(data[(data['living_area'].isna()) & (data['kitchen_area'].isna())])\n",
    "\n",
    "# в таких заявках будет некорректно вычислять оба этих параметра, всего таких заявок около 6%, что допустимо отбросить\n",
    "data.drop(labels = data[(data['living_area'].isna()) & (data['kitchen_area'].isna())].index,axis = 'index',inplace = True)\n",
    "\n",
    "# теперь можем заполнить пропуски \n",
    "\n",
    "# Выделим категории для параметров - 5 типов для комнат (1,2,3,4 и больше)\n",
    "# Будем использовать такие параметры как является ли это апартаментами, является ли это студией\n",
    "# 4 типа по размерам жил. площади и 4 типа по размерам кухни.\n",
    "\n",
    "# определим функции для введение категорий на размеры кухни и жилой площади\n",
    "def kitchensize(size):\n",
    "    if math.isnan(size):\n",
    "        return float('NaN')\n",
    "    if size<= 5:\n",
    "        return \"маленькая\"\n",
    "    if size<= 10:\n",
    "        return \"средняя\"\n",
    "    if size<= 15:\n",
    "        return \"больше средней\"\n",
    "    return \"большая\"\n",
    "\n",
    "def livingsize(size):\n",
    "    if math.isnan(size):\n",
    "        return float('NaN')\n",
    "    if size<= 17.5:\n",
    "        return \"маленькая\"\n",
    "    if size<= 30:\n",
    "        return \"средняя\"\n",
    "    if size<= 50:\n",
    "        return \"больше средней\"\n",
    "    return \"большая\"\n",
    "\n",
    "# создадим списки для прохождения цикла\n",
    "\n",
    "kitchen_size = [\"маленькая\",\"средняя\",\"больше средней\", \"большая\"]\n",
    "\n",
    "living_size = [\"маленькая\",\"средняя\",\"больше средней\", \"большая\"]\n",
    "\n",
    "# сделаем первичную категоризацию\n",
    "\n",
    "data['kitchensize'] = data['kitchen_area'].apply(kitchensize)\n",
    "\n",
    "data['livingsize'] = data['living_area'].apply(livingsize)\n",
    "\n",
    "# Создадим список средних значений\n",
    "\n",
    "list_of_kitsize = []\n",
    "\n",
    "list_of_livsize = []\n",
    "\n",
    "for kit_size in kitchen_size:\n",
    "    list_of_kitsize.append(data[data['kitchensize'] == kit_size]['kitchen_area'].mean())\n",
    "\n",
    "for liv_size in living_size:\n",
    "    list_of_livsize.append(data[data['livingsize'] == liv_size]['living_area'].mean())\n",
    "\n",
    "    \n",
    "# создадим series для удобства замены NaN\n",
    "\n",
    "list_of_kitsize = pd.Series(data =list_of_kitsize ,index = kitchen_size)\n",
    "\n",
    "list_of_livsize = pd.Series(data =list_of_livsize ,index = living_size)\n",
    "\n",
    "# делаем замену NaN на средние\n",
    "\n",
    "for kit_size in kitchen_size:\n",
    "     data[data['kitchensize']==kit_size] = data[data['kitchensize']==kit_size].fillna(list_of_livsize[kit_size])\n",
    "        \n",
    "for liv_size in living_size:\n",
    "     data[data['livingsize']==liv_size] = data[data['livingsize']==liv_size].fillna(list_of_kitsize[liv_size])\n",
    "\n",
    "# Теперь все пропуски заполнены \n",
    "\n",
    "data['kitchensize'] = data['kitchen_area'].apply(kitchensize) # исправляем последние два столбца\n",
    "\n",
    "data['livingsize'] = data['living_area'].apply(livingsize)\n",
    "\n",
    "data.info()\n",
    "\n",
    "display(data.head(10))"
   ]
  },
  {
   "cell_type": "markdown",
   "metadata": {},
   "source": [
    "Большинство проблем в данных были исправлены, теперь можно приступать к дальнейшей работе с ними. Если какие-то аномалии всё-таки остались, то они будут устранены по мере необходимости."
   ]
  },
  {
   "cell_type": "markdown",
   "metadata": {},
   "source": [
    "## Расчёты и добавление результатов в таблицу"
   ]
  },
  {
   "cell_type": "code",
   "execution_count": 73,
   "metadata": {},
   "outputs": [
    {
     "data": {
      "text/html": [
       "<div>\n",
       "<style scoped>\n",
       "    .dataframe tbody tr th:only-of-type {\n",
       "        vertical-align: middle;\n",
       "    }\n",
       "\n",
       "    .dataframe tbody tr th {\n",
       "        vertical-align: top;\n",
       "    }\n",
       "\n",
       "    .dataframe thead th {\n",
       "        text-align: right;\n",
       "    }\n",
       "</style>\n",
       "<table border=\"1\" class=\"dataframe\">\n",
       "  <thead>\n",
       "    <tr style=\"text-align: right;\">\n",
       "      <th></th>\n",
       "      <th>total_images</th>\n",
       "      <th>last_price</th>\n",
       "      <th>total_area</th>\n",
       "      <th>first_day_exposition</th>\n",
       "      <th>rooms</th>\n",
       "      <th>ceiling_height</th>\n",
       "      <th>floors_total</th>\n",
       "      <th>living_area</th>\n",
       "      <th>floor</th>\n",
       "      <th>is_apartment</th>\n",
       "      <th>...</th>\n",
       "      <th>days_exposition</th>\n",
       "      <th>kitchensize</th>\n",
       "      <th>livingsize</th>\n",
       "      <th>one_sq</th>\n",
       "      <th>Year</th>\n",
       "      <th>month</th>\n",
       "      <th>day_of_week</th>\n",
       "      <th>which_floor</th>\n",
       "      <th>liv/all</th>\n",
       "      <th>kit/all</th>\n",
       "    </tr>\n",
       "  </thead>\n",
       "  <tbody>\n",
       "    <tr>\n",
       "      <td>0</td>\n",
       "      <td>20</td>\n",
       "      <td>13000000.0</td>\n",
       "      <td>108.00</td>\n",
       "      <td>2019-03-07</td>\n",
       "      <td>3</td>\n",
       "      <td>2.70</td>\n",
       "      <td>16</td>\n",
       "      <td>51.000000</td>\n",
       "      <td>8</td>\n",
       "      <td>False</td>\n",
       "      <td>...</td>\n",
       "      <td>0</td>\n",
       "      <td>большая</td>\n",
       "      <td>большая</td>\n",
       "      <td>120370.370370</td>\n",
       "      <td>2019</td>\n",
       "      <td>3</td>\n",
       "      <td>3</td>\n",
       "      <td>0</td>\n",
       "      <td>0.472222</td>\n",
       "      <td>0.231481</td>\n",
       "    </tr>\n",
       "    <tr>\n",
       "      <td>1</td>\n",
       "      <td>7</td>\n",
       "      <td>3350000.0</td>\n",
       "      <td>40.40</td>\n",
       "      <td>2018-12-04</td>\n",
       "      <td>1</td>\n",
       "      <td>0.00</td>\n",
       "      <td>11</td>\n",
       "      <td>18.600000</td>\n",
       "      <td>1</td>\n",
       "      <td>False</td>\n",
       "      <td>...</td>\n",
       "      <td>81</td>\n",
       "      <td>больше средней</td>\n",
       "      <td>средняя</td>\n",
       "      <td>82920.792079</td>\n",
       "      <td>2018</td>\n",
       "      <td>12</td>\n",
       "      <td>1</td>\n",
       "      <td>-1</td>\n",
       "      <td>0.460396</td>\n",
       "      <td>0.272277</td>\n",
       "    </tr>\n",
       "    <tr>\n",
       "      <td>2</td>\n",
       "      <td>10</td>\n",
       "      <td>5196000.0</td>\n",
       "      <td>56.00</td>\n",
       "      <td>2015-08-20</td>\n",
       "      <td>2</td>\n",
       "      <td>0.00</td>\n",
       "      <td>5</td>\n",
       "      <td>34.300000</td>\n",
       "      <td>4</td>\n",
       "      <td>False</td>\n",
       "      <td>...</td>\n",
       "      <td>558</td>\n",
       "      <td>средняя</td>\n",
       "      <td>больше средней</td>\n",
       "      <td>92785.714286</td>\n",
       "      <td>2015</td>\n",
       "      <td>8</td>\n",
       "      <td>3</td>\n",
       "      <td>0</td>\n",
       "      <td>0.612500</td>\n",
       "      <td>0.148214</td>\n",
       "    </tr>\n",
       "    <tr>\n",
       "      <td>4</td>\n",
       "      <td>2</td>\n",
       "      <td>10000000.0</td>\n",
       "      <td>100.00</td>\n",
       "      <td>2018-06-19</td>\n",
       "      <td>2</td>\n",
       "      <td>3.03</td>\n",
       "      <td>14</td>\n",
       "      <td>32.000000</td>\n",
       "      <td>13</td>\n",
       "      <td>False</td>\n",
       "      <td>...</td>\n",
       "      <td>121</td>\n",
       "      <td>большая</td>\n",
       "      <td>больше средней</td>\n",
       "      <td>100000.000000</td>\n",
       "      <td>2018</td>\n",
       "      <td>6</td>\n",
       "      <td>1</td>\n",
       "      <td>0</td>\n",
       "      <td>0.320000</td>\n",
       "      <td>0.410000</td>\n",
       "    </tr>\n",
       "    <tr>\n",
       "      <td>5</td>\n",
       "      <td>10</td>\n",
       "      <td>2890000.0</td>\n",
       "      <td>30.40</td>\n",
       "      <td>2018-09-10</td>\n",
       "      <td>1</td>\n",
       "      <td>0.00</td>\n",
       "      <td>12</td>\n",
       "      <td>14.400000</td>\n",
       "      <td>5</td>\n",
       "      <td>False</td>\n",
       "      <td>...</td>\n",
       "      <td>55</td>\n",
       "      <td>средняя</td>\n",
       "      <td>маленькая</td>\n",
       "      <td>95065.789474</td>\n",
       "      <td>2018</td>\n",
       "      <td>9</td>\n",
       "      <td>0</td>\n",
       "      <td>0</td>\n",
       "      <td>0.473684</td>\n",
       "      <td>0.299342</td>\n",
       "    </tr>\n",
       "    <tr>\n",
       "      <td>6</td>\n",
       "      <td>6</td>\n",
       "      <td>3700000.0</td>\n",
       "      <td>37.30</td>\n",
       "      <td>2017-11-02</td>\n",
       "      <td>1</td>\n",
       "      <td>0.00</td>\n",
       "      <td>26</td>\n",
       "      <td>10.600000</td>\n",
       "      <td>6</td>\n",
       "      <td>False</td>\n",
       "      <td>...</td>\n",
       "      <td>155</td>\n",
       "      <td>больше средней</td>\n",
       "      <td>маленькая</td>\n",
       "      <td>99195.710456</td>\n",
       "      <td>2017</td>\n",
       "      <td>11</td>\n",
       "      <td>3</td>\n",
       "      <td>0</td>\n",
       "      <td>0.284182</td>\n",
       "      <td>0.386059</td>\n",
       "    </tr>\n",
       "    <tr>\n",
       "      <td>7</td>\n",
       "      <td>5</td>\n",
       "      <td>7915000.0</td>\n",
       "      <td>71.60</td>\n",
       "      <td>2019-04-18</td>\n",
       "      <td>2</td>\n",
       "      <td>0.00</td>\n",
       "      <td>24</td>\n",
       "      <td>73.838477</td>\n",
       "      <td>22</td>\n",
       "      <td>False</td>\n",
       "      <td>...</td>\n",
       "      <td>0</td>\n",
       "      <td>большая</td>\n",
       "      <td>большая</td>\n",
       "      <td>110544.692737</td>\n",
       "      <td>2019</td>\n",
       "      <td>4</td>\n",
       "      <td>3</td>\n",
       "      <td>0</td>\n",
       "      <td>1.031264</td>\n",
       "      <td>0.263966</td>\n",
       "    </tr>\n",
       "    <tr>\n",
       "      <td>8</td>\n",
       "      <td>20</td>\n",
       "      <td>2900000.0</td>\n",
       "      <td>33.16</td>\n",
       "      <td>2018-05-23</td>\n",
       "      <td>1</td>\n",
       "      <td>0.00</td>\n",
       "      <td>27</td>\n",
       "      <td>15.430000</td>\n",
       "      <td>26</td>\n",
       "      <td>False</td>\n",
       "      <td>...</td>\n",
       "      <td>189</td>\n",
       "      <td>средняя</td>\n",
       "      <td>маленькая</td>\n",
       "      <td>87454.764777</td>\n",
       "      <td>2018</td>\n",
       "      <td>5</td>\n",
       "      <td>2</td>\n",
       "      <td>0</td>\n",
       "      <td>0.465320</td>\n",
       "      <td>0.265682</td>\n",
       "    </tr>\n",
       "    <tr>\n",
       "      <td>9</td>\n",
       "      <td>18</td>\n",
       "      <td>5400000.0</td>\n",
       "      <td>61.00</td>\n",
       "      <td>2017-02-26</td>\n",
       "      <td>3</td>\n",
       "      <td>2.50</td>\n",
       "      <td>9</td>\n",
       "      <td>43.600000</td>\n",
       "      <td>7</td>\n",
       "      <td>False</td>\n",
       "      <td>...</td>\n",
       "      <td>289</td>\n",
       "      <td>средняя</td>\n",
       "      <td>больше средней</td>\n",
       "      <td>88524.590164</td>\n",
       "      <td>2017</td>\n",
       "      <td>2</td>\n",
       "      <td>6</td>\n",
       "      <td>0</td>\n",
       "      <td>0.714754</td>\n",
       "      <td>0.106557</td>\n",
       "    </tr>\n",
       "    <tr>\n",
       "      <td>10</td>\n",
       "      <td>5</td>\n",
       "      <td>5050000.0</td>\n",
       "      <td>39.60</td>\n",
       "      <td>2017-11-16</td>\n",
       "      <td>1</td>\n",
       "      <td>2.67</td>\n",
       "      <td>12</td>\n",
       "      <td>20.300000</td>\n",
       "      <td>3</td>\n",
       "      <td>False</td>\n",
       "      <td>...</td>\n",
       "      <td>137</td>\n",
       "      <td>средняя</td>\n",
       "      <td>средняя</td>\n",
       "      <td>127525.252525</td>\n",
       "      <td>2017</td>\n",
       "      <td>11</td>\n",
       "      <td>3</td>\n",
       "      <td>0</td>\n",
       "      <td>0.512626</td>\n",
       "      <td>0.214646</td>\n",
       "    </tr>\n",
       "    <tr>\n",
       "      <td>11</td>\n",
       "      <td>9</td>\n",
       "      <td>3300000.0</td>\n",
       "      <td>44.00</td>\n",
       "      <td>2018-08-27</td>\n",
       "      <td>2</td>\n",
       "      <td>0.00</td>\n",
       "      <td>5</td>\n",
       "      <td>31.000000</td>\n",
       "      <td>4</td>\n",
       "      <td>False</td>\n",
       "      <td>...</td>\n",
       "      <td>7</td>\n",
       "      <td>средняя</td>\n",
       "      <td>больше средней</td>\n",
       "      <td>75000.000000</td>\n",
       "      <td>2018</td>\n",
       "      <td>8</td>\n",
       "      <td>0</td>\n",
       "      <td>0</td>\n",
       "      <td>0.704545</td>\n",
       "      <td>0.136364</td>\n",
       "    </tr>\n",
       "    <tr>\n",
       "      <td>12</td>\n",
       "      <td>10</td>\n",
       "      <td>3890000.0</td>\n",
       "      <td>54.00</td>\n",
       "      <td>2016-06-30</td>\n",
       "      <td>2</td>\n",
       "      <td>0.00</td>\n",
       "      <td>5</td>\n",
       "      <td>30.000000</td>\n",
       "      <td>5</td>\n",
       "      <td>False</td>\n",
       "      <td>...</td>\n",
       "      <td>90</td>\n",
       "      <td>средняя</td>\n",
       "      <td>средняя</td>\n",
       "      <td>72037.037037</td>\n",
       "      <td>2016</td>\n",
       "      <td>6</td>\n",
       "      <td>3</td>\n",
       "      <td>1</td>\n",
       "      <td>0.555556</td>\n",
       "      <td>0.166667</td>\n",
       "    </tr>\n",
       "    <tr>\n",
       "      <td>13</td>\n",
       "      <td>20</td>\n",
       "      <td>3550000.0</td>\n",
       "      <td>42.80</td>\n",
       "      <td>2017-07-01</td>\n",
       "      <td>2</td>\n",
       "      <td>2.56</td>\n",
       "      <td>5</td>\n",
       "      <td>27.000000</td>\n",
       "      <td>5</td>\n",
       "      <td>False</td>\n",
       "      <td>...</td>\n",
       "      <td>366</td>\n",
       "      <td>средняя</td>\n",
       "      <td>средняя</td>\n",
       "      <td>82943.925234</td>\n",
       "      <td>2017</td>\n",
       "      <td>7</td>\n",
       "      <td>5</td>\n",
       "      <td>1</td>\n",
       "      <td>0.630841</td>\n",
       "      <td>0.121495</td>\n",
       "    </tr>\n",
       "    <tr>\n",
       "      <td>14</td>\n",
       "      <td>1</td>\n",
       "      <td>4400000.0</td>\n",
       "      <td>36.00</td>\n",
       "      <td>2016-06-23</td>\n",
       "      <td>1</td>\n",
       "      <td>0.00</td>\n",
       "      <td>6</td>\n",
       "      <td>17.000000</td>\n",
       "      <td>1</td>\n",
       "      <td>False</td>\n",
       "      <td>...</td>\n",
       "      <td>203</td>\n",
       "      <td>средняя</td>\n",
       "      <td>маленькая</td>\n",
       "      <td>122222.222222</td>\n",
       "      <td>2016</td>\n",
       "      <td>6</td>\n",
       "      <td>3</td>\n",
       "      <td>-1</td>\n",
       "      <td>0.472222</td>\n",
       "      <td>0.222222</td>\n",
       "    </tr>\n",
       "    <tr>\n",
       "      <td>15</td>\n",
       "      <td>16</td>\n",
       "      <td>4650000.0</td>\n",
       "      <td>39.00</td>\n",
       "      <td>2017-11-18</td>\n",
       "      <td>1</td>\n",
       "      <td>0.00</td>\n",
       "      <td>14</td>\n",
       "      <td>20.500000</td>\n",
       "      <td>5</td>\n",
       "      <td>False</td>\n",
       "      <td>...</td>\n",
       "      <td>19</td>\n",
       "      <td>средняя</td>\n",
       "      <td>средняя</td>\n",
       "      <td>119230.769231</td>\n",
       "      <td>2017</td>\n",
       "      <td>11</td>\n",
       "      <td>5</td>\n",
       "      <td>0</td>\n",
       "      <td>0.525641</td>\n",
       "      <td>0.194872</td>\n",
       "    </tr>\n",
       "    <tr>\n",
       "      <td>16</td>\n",
       "      <td>11</td>\n",
       "      <td>6700000.0</td>\n",
       "      <td>82.00</td>\n",
       "      <td>2017-11-23</td>\n",
       "      <td>3</td>\n",
       "      <td>3.05</td>\n",
       "      <td>5</td>\n",
       "      <td>55.600000</td>\n",
       "      <td>1</td>\n",
       "      <td>False</td>\n",
       "      <td>...</td>\n",
       "      <td>397</td>\n",
       "      <td>средняя</td>\n",
       "      <td>большая</td>\n",
       "      <td>81707.317073</td>\n",
       "      <td>2017</td>\n",
       "      <td>11</td>\n",
       "      <td>3</td>\n",
       "      <td>-1</td>\n",
       "      <td>0.678049</td>\n",
       "      <td>0.109756</td>\n",
       "    </tr>\n",
       "    <tr>\n",
       "      <td>17</td>\n",
       "      <td>6</td>\n",
       "      <td>4180000.0</td>\n",
       "      <td>36.00</td>\n",
       "      <td>2016-09-09</td>\n",
       "      <td>1</td>\n",
       "      <td>0.00</td>\n",
       "      <td>17</td>\n",
       "      <td>16.500000</td>\n",
       "      <td>7</td>\n",
       "      <td>False</td>\n",
       "      <td>...</td>\n",
       "      <td>571</td>\n",
       "      <td>больше средней</td>\n",
       "      <td>маленькая</td>\n",
       "      <td>116111.111111</td>\n",
       "      <td>2016</td>\n",
       "      <td>9</td>\n",
       "      <td>4</td>\n",
       "      <td>0</td>\n",
       "      <td>0.458333</td>\n",
       "      <td>0.305556</td>\n",
       "    </tr>\n",
       "    <tr>\n",
       "      <td>18</td>\n",
       "      <td>8</td>\n",
       "      <td>3250000.0</td>\n",
       "      <td>31.00</td>\n",
       "      <td>2017-01-27</td>\n",
       "      <td>1</td>\n",
       "      <td>2.50</td>\n",
       "      <td>5</td>\n",
       "      <td>19.400000</td>\n",
       "      <td>2</td>\n",
       "      <td>False</td>\n",
       "      <td>...</td>\n",
       "      <td>168</td>\n",
       "      <td>средняя</td>\n",
       "      <td>средняя</td>\n",
       "      <td>104838.709677</td>\n",
       "      <td>2017</td>\n",
       "      <td>1</td>\n",
       "      <td>4</td>\n",
       "      <td>0</td>\n",
       "      <td>0.625806</td>\n",
       "      <td>0.180645</td>\n",
       "    </tr>\n",
       "    <tr>\n",
       "      <td>19</td>\n",
       "      <td>16</td>\n",
       "      <td>14200000.0</td>\n",
       "      <td>121.00</td>\n",
       "      <td>2019-01-09</td>\n",
       "      <td>3</td>\n",
       "      <td>2.75</td>\n",
       "      <td>16</td>\n",
       "      <td>76.000000</td>\n",
       "      <td>8</td>\n",
       "      <td>False</td>\n",
       "      <td>...</td>\n",
       "      <td>97</td>\n",
       "      <td>больше средней</td>\n",
       "      <td>большая</td>\n",
       "      <td>117355.371901</td>\n",
       "      <td>2019</td>\n",
       "      <td>1</td>\n",
       "      <td>2</td>\n",
       "      <td>0</td>\n",
       "      <td>0.628099</td>\n",
       "      <td>0.099174</td>\n",
       "    </tr>\n",
       "    <tr>\n",
       "      <td>20</td>\n",
       "      <td>12</td>\n",
       "      <td>6120000.0</td>\n",
       "      <td>80.00</td>\n",
       "      <td>2017-09-28</td>\n",
       "      <td>3</td>\n",
       "      <td>2.70</td>\n",
       "      <td>27</td>\n",
       "      <td>48.000000</td>\n",
       "      <td>11</td>\n",
       "      <td>False</td>\n",
       "      <td>...</td>\n",
       "      <td>74</td>\n",
       "      <td>больше средней</td>\n",
       "      <td>больше средней</td>\n",
       "      <td>76500.000000</td>\n",
       "      <td>2017</td>\n",
       "      <td>9</td>\n",
       "      <td>3</td>\n",
       "      <td>0</td>\n",
       "      <td>0.600000</td>\n",
       "      <td>0.150000</td>\n",
       "    </tr>\n",
       "  </tbody>\n",
       "</table>\n",
       "<p>20 rows × 31 columns</p>\n",
       "</div>"
      ],
      "text/plain": [
       "    total_images  last_price  total_area first_day_exposition  rooms  \\\n",
       "0             20  13000000.0      108.00           2019-03-07      3   \n",
       "1              7   3350000.0       40.40           2018-12-04      1   \n",
       "2             10   5196000.0       56.00           2015-08-20      2   \n",
       "4              2  10000000.0      100.00           2018-06-19      2   \n",
       "5             10   2890000.0       30.40           2018-09-10      1   \n",
       "6              6   3700000.0       37.30           2017-11-02      1   \n",
       "7              5   7915000.0       71.60           2019-04-18      2   \n",
       "8             20   2900000.0       33.16           2018-05-23      1   \n",
       "9             18   5400000.0       61.00           2017-02-26      3   \n",
       "10             5   5050000.0       39.60           2017-11-16      1   \n",
       "11             9   3300000.0       44.00           2018-08-27      2   \n",
       "12            10   3890000.0       54.00           2016-06-30      2   \n",
       "13            20   3550000.0       42.80           2017-07-01      2   \n",
       "14             1   4400000.0       36.00           2016-06-23      1   \n",
       "15            16   4650000.0       39.00           2017-11-18      1   \n",
       "16            11   6700000.0       82.00           2017-11-23      3   \n",
       "17             6   4180000.0       36.00           2016-09-09      1   \n",
       "18             8   3250000.0       31.00           2017-01-27      1   \n",
       "19            16  14200000.0      121.00           2019-01-09      3   \n",
       "20            12   6120000.0       80.00           2017-09-28      3   \n",
       "\n",
       "    ceiling_height  floors_total  living_area  floor  is_apartment  ...  \\\n",
       "0             2.70            16    51.000000      8         False  ...   \n",
       "1             0.00            11    18.600000      1         False  ...   \n",
       "2             0.00             5    34.300000      4         False  ...   \n",
       "4             3.03            14    32.000000     13         False  ...   \n",
       "5             0.00            12    14.400000      5         False  ...   \n",
       "6             0.00            26    10.600000      6         False  ...   \n",
       "7             0.00            24    73.838477     22         False  ...   \n",
       "8             0.00            27    15.430000     26         False  ...   \n",
       "9             2.50             9    43.600000      7         False  ...   \n",
       "10            2.67            12    20.300000      3         False  ...   \n",
       "11            0.00             5    31.000000      4         False  ...   \n",
       "12            0.00             5    30.000000      5         False  ...   \n",
       "13            2.56             5    27.000000      5         False  ...   \n",
       "14            0.00             6    17.000000      1         False  ...   \n",
       "15            0.00            14    20.500000      5         False  ...   \n",
       "16            3.05             5    55.600000      1         False  ...   \n",
       "17            0.00            17    16.500000      7         False  ...   \n",
       "18            2.50             5    19.400000      2         False  ...   \n",
       "19            2.75            16    76.000000      8         False  ...   \n",
       "20            2.70            27    48.000000     11         False  ...   \n",
       "\n",
       "    days_exposition     kitchensize      livingsize         one_sq  Year  \\\n",
       "0                 0         большая         большая  120370.370370  2019   \n",
       "1                81  больше средней         средняя   82920.792079  2018   \n",
       "2               558         средняя  больше средней   92785.714286  2015   \n",
       "4               121         большая  больше средней  100000.000000  2018   \n",
       "5                55         средняя       маленькая   95065.789474  2018   \n",
       "6               155  больше средней       маленькая   99195.710456  2017   \n",
       "7                 0         большая         большая  110544.692737  2019   \n",
       "8               189         средняя       маленькая   87454.764777  2018   \n",
       "9               289         средняя  больше средней   88524.590164  2017   \n",
       "10              137         средняя         средняя  127525.252525  2017   \n",
       "11                7         средняя  больше средней   75000.000000  2018   \n",
       "12               90         средняя         средняя   72037.037037  2016   \n",
       "13              366         средняя         средняя   82943.925234  2017   \n",
       "14              203         средняя       маленькая  122222.222222  2016   \n",
       "15               19         средняя         средняя  119230.769231  2017   \n",
       "16              397         средняя         большая   81707.317073  2017   \n",
       "17              571  больше средней       маленькая  116111.111111  2016   \n",
       "18              168         средняя         средняя  104838.709677  2017   \n",
       "19               97  больше средней         большая  117355.371901  2019   \n",
       "20               74  больше средней  больше средней   76500.000000  2017   \n",
       "\n",
       "    month  day_of_week  which_floor   liv/all   kit/all  \n",
       "0       3            3            0  0.472222  0.231481  \n",
       "1      12            1           -1  0.460396  0.272277  \n",
       "2       8            3            0  0.612500  0.148214  \n",
       "4       6            1            0  0.320000  0.410000  \n",
       "5       9            0            0  0.473684  0.299342  \n",
       "6      11            3            0  0.284182  0.386059  \n",
       "7       4            3            0  1.031264  0.263966  \n",
       "8       5            2            0  0.465320  0.265682  \n",
       "9       2            6            0  0.714754  0.106557  \n",
       "10     11            3            0  0.512626  0.214646  \n",
       "11      8            0            0  0.704545  0.136364  \n",
       "12      6            3            1  0.555556  0.166667  \n",
       "13      7            5            1  0.630841  0.121495  \n",
       "14      6            3           -1  0.472222  0.222222  \n",
       "15     11            5            0  0.525641  0.194872  \n",
       "16     11            3           -1  0.678049  0.109756  \n",
       "17      9            4            0  0.458333  0.305556  \n",
       "18      1            4            0  0.625806  0.180645  \n",
       "19      1            2            0  0.628099  0.099174  \n",
       "20      9            3            0  0.600000  0.150000  \n",
       "\n",
       "[20 rows x 31 columns]"
      ]
     },
     "metadata": {},
     "output_type": "display_data"
    }
   ],
   "source": [
    "# Теперь займёмся добавлением новых столбцов - а именно цену квадратного метра;\n",
    "# день недели, месяц и год публикации объявления;\n",
    "# этаж квартиры; варианты — первый, последний, другой;\n",
    "# соотношение жилой и общей площади, а также отношение площади кухни к общей.\n",
    "\n",
    "data['one_sq'] = data['last_price']/data['total_area']\n",
    "\n",
    "data['Year'] = data['first_day_exposition'].dt.year\n",
    "\n",
    "data['month'] = data['first_day_exposition'].dt.month\n",
    "\n",
    "data['day_of_week'] = data['first_day_exposition'].dt.dayofweek\n",
    "\n",
    "\n",
    "data[\"which_floor\"]=0 # делаем так, чтобы было можно найти коэффициенты корреляции\n",
    "data.loc[data[\"floor\"]==data[\"floors_total\"],\"which_floor\"]=1\n",
    "data.loc[data[\"floor\"]==1,\"which_floor\"]=-1\n",
    "\n",
    "data['liv/all']= data['living_area']/data['total_area']\n",
    "\n",
    "data['kit/all']= data['kitchen_area']/data['total_area']\n",
    "\n",
    "display(data.head(20)) # проверяем что все данные заполнились корректно \n",
    "\n",
    "# Теперь в таблице присутствуют все необходимые данные для дальнейшей аналитической работы\n"
   ]
  },
  {
   "cell_type": "markdown",
   "metadata": {},
   "source": [
    "## Исследовательский анализ данных"
   ]
  },
  {
   "cell_type": "code",
   "execution_count": 74,
   "metadata": {},
   "outputs": [
    {
     "name": "stdout",
     "output_type": "stream",
     "text": [
      "Максимальная площадь среди квартир 900.0\n",
      "Минимальная площадь среди квартир 12.0\n",
      "Средняя площадь квартир 60.29344996626939\n",
      "Медиана площади квартир 52.0\n",
      "Максимальная цена среди квартир 763000000.0\n",
      "Минимальная цена среди квартир 12190.0\n",
      "Средняя цена квартир 6537469.717922195\n",
      "Медиана цены квартир 4650000.0\n",
      "Максимальное число комнат среди квартир 19\n",
      "Минимальное число комнат среди квартир 0\n",
      "Среднее число комнат квартир 2.0723184169102766\n",
      "Медиана числа комнат квартир 2.0\n",
      "Максимальная высота потолка среди квартир 100.0\n",
      "Минимальная высота потолка комнат среди квартир 1.0\n",
      "Средняя высота потолка комнат квартир 2.7733247219232147\n",
      "Медиана высоты потолка комнат квартир 2.65\n"
     ]
    }
   ],
   "source": [
    "# Изучим следующие параметры: площадь, цена, число комнат, высота потолков и построим для них гистограмму\n",
    "\n",
    "print(\"Максимальная площадь среди квартир\", data['total_area'].max())\n",
    "\n",
    "print(\"Минимальная площадь среди квартир\", data['total_area'].min())\n",
    "\n",
    "print(\"Средняя площадь квартир\", data['total_area'].mean())\n",
    "\n",
    "print(\"Медиана площади квартир\", data['total_area'].median())\n",
    "\n",
    "print(\"Максимальная цена среди квартир\", data['last_price'].max())\n",
    "\n",
    "print(\"Минимальная цена среди квартир\", data['last_price'].min())\n",
    "\n",
    "print(\"Средняя цена квартир\", data['last_price'].mean())\n",
    "\n",
    "print(\"Медиана цены квартир\", data['last_price'].median())\n",
    "\n",
    "print(\"Максимальное число комнат среди квартир\", data['rooms'].max())\n",
    "\n",
    "print(\"Минимальное число комнат среди квартир\", data['rooms'].min())\n",
    "\n",
    "print(\"Среднее число комнат квартир\", data['rooms'].mean())\n",
    "\n",
    "print(\"Медиана числа комнат квартир\", data['rooms'].median())\n",
    "\n",
    "print(\"Максимальная высота потолка среди квартир\", data[data[\"ceiling_height\"]!=0]['ceiling_height'].max())\n",
    "\n",
    "print(\"Минимальная высота потолка комнат среди квартир\", data[data[\"ceiling_height\"]!=0]['ceiling_height'].min())\n",
    "\n",
    "print(\"Средняя высота потолка комнат квартир\", data[data[\"ceiling_height\"]!=0]['ceiling_height'].mean())\n",
    "\n",
    "print(\"Медиана высоты потолка комнат квартир\", data[data[\"ceiling_height\"]!=0]['ceiling_height'].median())"
   ]
  },
  {
   "cell_type": "markdown",
   "metadata": {},
   "source": [
    "Посмотрим на результаты кода. Выше мы можем наблюдать некоторые аномальные значения. Например, 0 комант, высота полотка в 1 (метр?), цену за квартиру всего в 12 тысяч. Нужно убедиться, явялются такие значения аномальными, или же нет. Например, цена могла быть указана в долларах, а высота потолка - в чём-нибудь ещё. Проверим данные гипотезы построением диаграмм."
   ]
  },
  {
   "cell_type": "code",
   "execution_count": 75,
   "metadata": {},
   "outputs": [
    {
     "name": "stdout",
     "output_type": "stream",
     "text": [
      "Квартир дешевле миллиона: 185\n",
      "Квартир, где ноль комнат: 183\n",
      "Квартир с потолком ниже 2.2 м: 12\n"
     ]
    },
    {
     "data": {
      "image/png": "[encoded data removed]",
      "text/plain": [
       "<Figure size 1440x576 with 1 Axes>"
      ]
     },
     "metadata": {
      "needs_background": "light"
     },
     "output_type": "display_data"
    },
    {
     "data": {
      "image/png": "[encoded data removed]",
      "text/plain": [
       "<Figure size 1440x576 with 1 Axes>"
      ]
     },
     "metadata": {
      "needs_background": "light"
     },
     "output_type": "display_data"
    },
    {
     "data": {
      "image/png": "[encoded data removed]",
      "text/plain": [
       "<Figure size 1440x576 with 1 Axes>"
      ]
     },
     "metadata": {
      "needs_background": "light"
     },
     "output_type": "display_data"
    }
   ],
   "source": [
    "print(\"Квартир дешевле миллиона:\", data[data['last_price']<1000000]['last_price'].count())\n",
    "\n",
    "print(\"Квартир, где ноль комнат:\",data[data['rooms']<1]['rooms'].count())\n",
    "\n",
    "print(\"Квартир с потолком ниже 2.2 м:\",data[(data[\"ceiling_height\"]<2.2) &(data[\"ceiling_height\"]>0)][\"ceiling_height\"].count())\n",
    "\n",
    "\n",
    "\n",
    "#data[data['last_price']<1000000]['last_price'].hist(bins = 1000,figsize = (20,8))\n",
    "\n",
    "data['last_price'].hist(bins=1000, range=(0, 1000000),figsize = (20,8))\n",
    "plt.show()\n",
    "\n",
    "data['rooms'].hist(bins=20, range=(0, 19),figsize = (20,8))\n",
    "plt.show()\n",
    "\n",
    "data[\"ceiling_height\"].hist(bins=50, range=(1, 4),figsize = (20,8))\n",
    "plt.show()"
   ]
  },
  {
   "cell_type": "markdown",
   "metadata": {},
   "source": [
    "По гистограммам видно, что квартир дешевле миллиона довольно много, но есть группа, которая сильно выделяется от остальных и находится ближе к нулю. Скорее всего, там цена указана в долларах. Касательно квартир с низким потолком - с ними лучше будет поступить так: обнулить эту величину и не учитывать в расчётах. Касательно нуля комнат - лучше просто выкинуть эти данные, благо их не так много."
   ]
  },
  {
   "cell_type": "code",
   "execution_count": 76,
   "metadata": {},
   "outputs": [
    {
     "name": "stdout",
     "output_type": "stream",
     "text": [
      "<class 'pandas.core.frame.DataFrame'>\n",
      "Int64Index: 22052 entries, 0 to 23698\n",
      "Data columns (total 31 columns):\n",
      "total_images            22052 non-null int64\n",
      "last_price              22052 non-null float64\n",
      "total_area              22052 non-null float64\n",
      "first_day_exposition    22052 non-null datetime64[ns]\n",
      "rooms                   22052 non-null int64\n",
      "ceiling_height          22052 non-null float64\n",
      "floors_total            22052 non-null int64\n",
      "living_area             22052 non-null float64\n",
      "floor                   22052 non-null int64\n",
      "is_apartment            22052 non-null bool\n",
      "studio                  22052 non-null bool\n",
      "open_plan               22052 non-null bool\n",
      "kitchen_area            22052 non-null float64\n",
      "balcony                 22052 non-null int64\n",
      "locality_name           22052 non-null object\n",
      "airports_nearest        22052 non-null float64\n",
      "cityCenters_nearest     22052 non-null float64\n",
      "parks_around3000        22052 non-null int64\n",
      "parks_nearest           22052 non-null float64\n",
      "ponds_around3000        22052 non-null int64\n",
      "ponds_nearest           22052 non-null float64\n",
      "days_exposition         22052 non-null int64\n",
      "kitchensize             22052 non-null object\n",
      "livingsize              22052 non-null object\n",
      "one_sq                  22052 non-null float64\n",
      "Year                    22052 non-null int64\n",
      "month                   22052 non-null int64\n",
      "day_of_week             22052 non-null int64\n",
      "which_floor             22052 non-null int64\n",
      "liv/all                 22052 non-null float64\n",
      "kit/all                 22052 non-null float64\n",
      "dtypes: bool(3), datetime64[ns](1), float64(12), int64(12), object(3)\n",
      "memory usage: 4.9+ MB\n"
     ]
    }
   ],
   "source": [
    "data.loc[data['last_price']<100000,'last_price'] = data.loc[data['last_price']<100000,'last_price']*70 \n",
    "# Перевели цену в долларах в рубли\n",
    "\n",
    "data.loc[(data[\"ceiling_height\"]<2.2) | (data[\"ceiling_height\"]>10),\"ceiling_height\"] =0 \n",
    "# избавились от неправильной высоты у потолков\n",
    "\n",
    "data.drop(labels = data[data['rooms']==0].index,axis = 'index',inplace = True)\n",
    "\n",
    "data.info()"
   ]
  },
  {
   "cell_type": "code",
   "execution_count": 77,
   "metadata": {},
   "outputs": [
    {
     "data": {
      "image/png": "[encoded data removed]",
      "text/plain": [
       "<Figure size 1440x576 with 1 Axes>"
      ]
     },
     "metadata": {
      "needs_background": "light"
     },
     "output_type": "display_data"
    },
    {
     "data": {
      "image/png": "[encoded data removed]",
      "text/plain": [
       "<Figure size 1440x576 with 1 Axes>"
      ]
     },
     "metadata": {
      "needs_background": "light"
     },
     "output_type": "display_data"
    },
    {
     "data": {
      "image/png": "[encoded data removed]",
      "text/plain": [
       "<Figure size 1440x576 with 1 Axes>"
      ]
     },
     "metadata": {
      "needs_background": "light"
     },
     "output_type": "display_data"
    },
    {
     "data": {
      "image/png": "[encoded data removed]",
      "text/plain": [
       "<Figure size 1440x576 with 1 Axes>"
      ]
     },
     "metadata": {
      "needs_background": "light"
     },
     "output_type": "display_data"
    }
   ],
   "source": [
    "# Теперь можем посторить гистограммы для каждого параметра \n",
    "\n",
    "data['total_area'].hist(bins=1000, range=(10, 910),figsize = (20,8))\n",
    "plt.show()\n",
    "\n",
    "data['last_price'].hist(bins=1000, range=(100000, 765000000),figsize = (20,8))\n",
    "plt.show()\n",
    "\n",
    "data['rooms'].hist(bins=20, range=(0, 19),figsize = (20,8))\n",
    "plt.show()\n",
    "\n",
    "data[\"ceiling_height\"].hist(bins=50, range=(2, 10),figsize = (20,8))\n",
    "plt.show()"
   ]
  },
  {
   "cell_type": "markdown",
   "metadata": {},
   "source": [
    "Из гистограмм видно, что большая часть квартир имеют примерно одинаковый диапозон параметров, а широкий диапозон минимального и максимального значения вызван малым количеством объявлений с крайне нестандартными параметрами. Поэтому для более подробного анализа нужно либо исключить эти предложения, либо использовать иные графики, либо воспользоваться категоризацией."
   ]
  },
  {
   "cell_type": "code",
   "execution_count": 78,
   "metadata": {},
   "outputs": [
    {
     "name": "stdout",
     "output_type": "stream",
     "text": [
      "Среднее время продажи квартиры 185.47830893966517 дней\n",
      "Медиана времени продажи квартиры 102.0 дней\n"
     ]
    },
    {
     "data": {
      "text/plain": [
       "<matplotlib.axes._subplots.AxesSubplot at 0x7f963d0ba7d0>"
      ]
     },
     "execution_count": 78,
     "metadata": {},
     "output_type": "execute_result"
    },
    {
     "data": {
      "image/png": "[encoded data removed]",
      "text/plain": [
       "<Figure size 1440x576 with 1 Axes>"
      ]
     },
     "metadata": {
      "needs_background": "light"
     },
     "output_type": "display_data"
    }
   ],
   "source": [
    "# Теперь подробнее изучим время продажи квартиры. Помним, что мы заменили часть данных нулями в том случае, если\n",
    "# объявление всё ещё не убрано\n",
    "\n",
    "print(\"Среднее время продажи квартиры\", data[data[\"days_exposition\"]!=0][\"days_exposition\"].mean(), \"дней\")\n",
    "\n",
    "print(\"Медиана времени продажи квартиры\", data[data[\"days_exposition\"]!=0][\"days_exposition\"].median(), \"дней\")\n",
    "\n",
    "data[data[\"days_exposition\"]!=0][\"days_exposition\"].hist(bins = 200, figsize = (20,8))\n",
    "\n"
   ]
  },
  {
   "cell_type": "markdown",
   "metadata": {},
   "source": [
    "Видим, что большая часть квартир продаётся около полугода. Интересно посмотреть, сколько квартир продаётся более двух лет и меньше недели. Исходя из гистограммы, среднее значение слишком завышено за счёт аномально долгих продаж. Поэтому, было бы неплохо не учитывать 1-2% самых долгих и самых быстрых продаж. "
   ]
  },
  {
   "cell_type": "code",
   "execution_count": 79,
   "metadata": {},
   "outputs": [
    {
     "name": "stdout",
     "output_type": "stream",
     "text": [
      "Аномально долгих продаж 715 дней\n",
      "Аномально быстрых продаж 586 дней\n",
      "Аномально долгих продаж 325 дней\n",
      "Аномально быстрых продаж 326 дней\n",
      "Среднее время продажи квартиры 171.94308455541625 дней\n",
      "Медиана времени продажи квартиры 102.0 дней\n"
     ]
    },
    {
     "data": {
      "text/plain": [
       "<matplotlib.axes._subplots.AxesSubplot at 0x7f963dcac610>"
      ]
     },
     "execution_count": 79,
     "metadata": {},
     "output_type": "execute_result"
    },
    {
     "data": {
      "image/png": "[encoded data removed]",
      "text/plain": [
       "<Figure size 1440x576 with 1 Axes>"
      ]
     },
     "metadata": {
      "needs_background": "light"
     },
     "output_type": "display_data"
    }
   ],
   "source": [
    "# считаем количество продаж дольше двух лет и меньше недели\n",
    "\n",
    "print(\"Аномально долгих продаж\", data[data[\"days_exposition\"]>730][\"days_exposition\"].count(), \"дней\")\n",
    "\n",
    "print(\"Аномально быстрых продаж\", data[(data[\"days_exposition\"]!=0) & (data[\"days_exposition\"]<7) ][\"days_exposition\"].count(), \"дней\")\n",
    "\n",
    "# изменим диапазон, чтобы кол-во значений не превышало 1-2%\n",
    "\n",
    "print(\"Аномально долгих продаж\", data[data[\"days_exposition\"]>950][\"days_exposition\"].count(), \"дней\")\n",
    "\n",
    "print(\"Аномально быстрых продаж\", data[(data[\"days_exposition\"]!=0) & (data[\"days_exposition\"]<5) ][\"days_exposition\"].count(), \"дней\")\n",
    "\n",
    "# Пометим эти данные как аномальные\n",
    "\n",
    "data.loc[data[\"days_exposition\"]>950,\"days_exposition\"]=0\n",
    "\n",
    "data.loc[(data[\"days_exposition\"]!=0) & (data[\"days_exposition\"]<5),\"days_exposition\"]=0\n",
    "\n",
    "# Посчитаем новые значения для среднего и медианы, хотя последняя врятли сильно изменится \n",
    "\n",
    "print(\"Среднее время продажи квартиры\", data[data[\"days_exposition\"]!=0][\"days_exposition\"].mean(), \"дней\")\n",
    "\n",
    "print(\"Медиана времени продажи квартиры\", data[data[\"days_exposition\"]!=0][\"days_exposition\"].median(), \"дней\")\n",
    "\n",
    "# Похоже, цифры не сильно изменились. Можно считать, что это достаточно отчищенная информация\n",
    "\n",
    "data[data[\"days_exposition\"]!=0][\"days_exposition\"].hist(bins = 200, figsize = (20,8))"
   ]
  },
  {
   "cell_type": "markdown",
   "metadata": {},
   "source": [
    "Было бы логично предположить, что считать что долго или быстро - это определённый процент от общего числа. Пусть эта величина будет равна 10%. Тогда найдём границы значений для 10% (примерно 2000 сделок)"
   ]
  },
  {
   "cell_type": "code",
   "execution_count": 80,
   "metadata": {},
   "outputs": [
    {
     "name": "stdout",
     "output_type": "stream",
     "text": [
      "Быстрых продаж 1949\n",
      "Долгих продаж 2054\n"
     ]
    }
   ],
   "source": [
    "print(\"Быстрых продаж\", data[data[\"days_exposition\"]>425][\"days_exposition\"].count())\n",
    "\n",
    "print(\"Долгих продаж\", data[(data[\"days_exposition\"]!=0) & (data[\"days_exposition\"]<21) ][\"days_exposition\"].count())"
   ]
  },
  {
   "cell_type": "markdown",
   "metadata": {},
   "source": [
    "Считаем, что продажа квартиры за 3 недели - это быстрая продажа. Если же продажа больше 14 месяцев - это долгая продажа. \n",
    "\n",
    "Теперь приступим к изучению влияния различных факторов на цену квартиры. Зависит ли цена от площади, числа комнат, этажа (первого или последнего), удалённости от центра, от даты размещения: дня недели, месяца и года."
   ]
  },
  {
   "cell_type": "code",
   "execution_count": 81,
   "metadata": {},
   "outputs": [
    {
     "name": "stdout",
     "output_type": "stream",
     "text": [
      "Корреляция между ценой и площадью  0.7702815123953847\n",
      "Корреляция между ценой и комнатами  0.4755133280862293\n",
      "Корреляция между ценой и этажом  0.06234936968080662\n",
      "Корреляция между ценой и расстоянием от центра  -0.3013740032532193\n",
      "Корреляция между ценой и годом  -0.05002675602784272\n",
      "Корреляция между ценой и месяцем  0.004332053467859678\n",
      "Корреляция между ценой и днём  -0.00489086675614308\n",
      "Корреляция между комнатами и площадью  0.7666479504570611\n"
     ]
    }
   ],
   "source": [
    "# Для начала можем вычислить коэффициенты корреляции Пирсона\n",
    "\n",
    "print(\"Корреляция между ценой и площадью \", data[data['last_price']<100000000]['last_price'].corr(data['total_area']))\n",
    "\n",
    "print(\"Корреляция между ценой и комнатами \", data[data['last_price']<100000000]['last_price'].corr(data[data['rooms']<11]['rooms']))\n",
    "\n",
    "print(\"Корреляция между ценой и этажом \", data[data['last_price']<100000000]['last_price'].corr(data['which_floor']))\n",
    "\n",
    "print(\"Корреляция между ценой и расстоянием от центра \", data[data['last_price']<100000000]['last_price'].corr(data[(data['last_price']<100000000)&(data['cityCenters_nearest']<1000000)]['cityCenters_nearest']))\n",
    "\n",
    "print(\"Корреляция между ценой и годом \", data[data['last_price']<100000000]['last_price'].corr(data['Year']))\n",
    "\n",
    "print(\"Корреляция между ценой и месяцем \", data[data['last_price']<100000000]['last_price'].corr(data['month']))\n",
    "\n",
    "print(\"Корреляция между ценой и днём \", data[data['last_price']<100000000]['last_price'].corr(data['day_of_week']))\n",
    "\n",
    "# для дополнительной информации найдём корреляцию между total_area и rooms\n",
    "\n",
    "print(\"Корреляция между комнатами и площадью \", data['total_area'].corr(data['rooms']))"
   ]
  },
  {
   "cell_type": "markdown",
   "metadata": {},
   "source": [
    "Результаты довольно ожидаемы, цена квартиры зависит от площади, количества комнат (а они напрямую связаны с площадью) и не зависят от этажа, года, месяца и дня недели выставления на продажу. Меньшая зависимость наблюдается между расстоянием до центра города и ценой на квартиру. Построим графики для величин, у которых коэффициент корреляции больше 0.15 по модулю "
   ]
  },
  {
   "cell_type": "code",
   "execution_count": 82,
   "metadata": {},
   "outputs": [
    {
     "data": {
      "text/plain": [
       "<matplotlib.axes._subplots.AxesSubplot at 0x7f963d15ce50>"
      ]
     },
     "execution_count": 82,
     "metadata": {},
     "output_type": "execute_result"
    },
    {
     "data": {
      "image/png": "[encoded data removed]",
      "text/plain": [
       "<Figure size 432x288 with 1 Axes>"
      ]
     },
     "metadata": {
      "needs_background": "light"
     },
     "output_type": "display_data"
    },
    {
     "data": {
      "image/png": "[encoded data removed]",
      "text/plain": [
       "<Figure size 432x288 with 1 Axes>"
      ]
     },
     "metadata": {
      "needs_background": "light"
     },
     "output_type": "display_data"
    },
    {
     "data": {
      "image/png": "[encoded data removed]",
      "text/plain": [
       "<Figure size 864x360 with 1 Axes>"
      ]
     },
     "metadata": {
      "needs_background": "light"
     },
     "output_type": "display_data"
    },
    {
     "data": {
      "image/png": "[encoded data removed]",
      "text/plain": [
       "<Figure size 432x288 with 1 Axes>"
      ]
     },
     "metadata": {
      "needs_background": "light"
     },
     "output_type": "display_data"
    }
   ],
   "source": [
    "data[data['last_price']<100000000].plot(x='total_area', y='last_price', kind='scatter')\n",
    "\n",
    "data[(data['last_price']<100000000)&(data['rooms']<11)].plot(x='rooms', y='last_price', kind='scatter')\n",
    "\n",
    "# Как видим, такая диаграмма не подходит для оценки взаимосвязи между кол-вом комнат и ценой, используем другой метод\n",
    "\n",
    "data[(data['last_price']<100000000)&(data['rooms']<11)].pivot_table(index='rooms', values='last_price',aggfunc = 'mean').plot(grid=True, figsize=(12, 5))\n",
    "\n",
    "data[(data['last_price']<100000000)&(data['cityCenters_nearest']<1000000)].plot(x='cityCenters_nearest', y='last_price', kind='scatter')"
   ]
  },
  {
   "cell_type": "markdown",
   "metadata": {},
   "source": [
    "Как видим из графиков, зависимости довольно очевидно прослеживаются в этих соотношениях. Значит можно утверждать, что цена на квартиру зависит от площади, числа комнат, расстояния от центра города, а от этажа, месяца года и дня публикации заявки не зависят. \n",
    "\n",
    "Перейдём к следующему этапу. Выберем 10 населённых пунктов с самым большим числом объявлений и посчитаем среднюю цену квадратного метра. Выведем населённые пункты с самой большой и малой ценой."
   ]
  },
  {
   "cell_type": "code",
   "execution_count": 83,
   "metadata": {},
   "outputs": [
    {
     "name": "stdout",
     "output_type": "stream",
     "text": [
      "                            mean  count\n",
      "                          one_sq one_sq\n",
      "locality_name                          \n",
      "Санкт-Петербург    114410.998480  14749\n",
      "посёлок Мурино      85557.566305    456\n",
      "посёлок Шушары      78598.249213    406\n",
      "Всеволожск          68873.630029    366\n",
      "Пушкин             103384.836378    346\n",
      "Колпино             75344.096345    328\n",
      "посёлок Парголово   90507.927448    298\n",
      "Гатчина             68684.401336    296\n",
      "деревня Кудрово     92416.088563    251\n",
      "Выборг              58242.714226    204\n",
      "                                  mean  count\n",
      "                                one_sq one_sq\n",
      "locality_name                                \n",
      "посёлок Репино           127678.571429      2\n",
      "посёлок Лисий Нос        121616.221359      2\n",
      "Зеленогорск              115122.799198     24\n",
      "Санкт-Петербург          114410.998480  14749\n",
      "деревня Бор              105539.261570      1\n",
      "...                                ...    ...\n",
      "деревня Малая Романовка   12724.550898      1\n",
      "поселок Совхозный         12555.555556      1\n",
      "деревня Выскатка          12335.480902      2\n",
      "деревня Ям-Тесово         12328.767123      1\n",
      "деревня Старополье        10368.663594      1\n",
      "\n",
      "[348 rows x 2 columns]\n"
     ]
    }
   ],
   "source": [
    "a = data.query('locality_name != \"unknown\"').pivot_table(index='locality_name', values='one_sq',aggfunc = ['mean','count']).sort_values(by = ('count', 'one_sq'),ascending = False)\n",
    "    \n",
    "print(a.head(10))\n",
    "\n",
    "print(a.sort_values(by = ('mean', 'one_sq'),ascending = False))"
   ]
  },
  {
   "cell_type": "markdown",
   "metadata": {},
   "source": [
    "Теперь изучим так называемый \"центр\" Санкт-Петербурга, а именно постараемся определить его диапазон. "
   ]
  },
  {
   "cell_type": "code",
   "execution_count": 84,
   "metadata": {},
   "outputs": [
    {
     "data": {
      "text/plain": [
       "<matplotlib.axes._subplots.AxesSubplot at 0x7f963ddf0550>"
      ]
     },
     "execution_count": 84,
     "metadata": {},
     "output_type": "execute_result"
    },
    {
     "data": {
      "image/png": "[encoded data removed]",
      "text/plain": [
       "<Figure size 864x360 with 1 Axes>"
      ]
     },
     "metadata": {
      "needs_background": "light"
     },
     "output_type": "display_data"
    }
   ],
   "source": [
    "SP_data = data[data['locality_name']=='Санкт-Петербург'].copy() # сделаем копию части датасета для удобной работы\n",
    "\n",
    "SP_data['mid_range']= round(SP_data['cityCenters_nearest']/1000) # создаём новый столбец\n",
    "\n",
    "SP_data[(SP_data['last_price']<100000000)&(SP_data['mid_range']<50)&(SP_data['rooms']<10)&\n",
    "        (SP_data[\"days_exposition\"]<10)].pivot_table(index='mid_range', values='last_price',\n",
    "                                                     aggfunc = 'mean').plot(grid=True, figsize=(12, 5))"
   ]
  },
  {
   "cell_type": "markdown",
   "metadata": {},
   "source": [
    "На графике присутствуют несколько точек, которые можно прниять за границы центра - это примерно 3 км и 9 км. На графике есть некоторые скачки, посмотрим, сколько в каждом километре от центра было продано квартир."
   ]
  },
  {
   "cell_type": "code",
   "execution_count": 85,
   "metadata": {},
   "outputs": [
    {
     "name": "stdout",
     "output_type": "stream",
     "text": [
      "0.0         26\n",
      "1.0        181\n",
      "2.0        291\n",
      "3.0        333\n",
      "4.0        650\n",
      "5.0        863\n",
      "6.0        553\n",
      "7.0        388\n",
      "8.0        568\n",
      "9.0        556\n",
      "10.0       682\n",
      "11.0      1122\n",
      "12.0      1519\n",
      "13.0      1370\n",
      "14.0      1210\n",
      "15.0      1471\n",
      "16.0      1172\n",
      "17.0       813\n",
      "18.0       247\n",
      "19.0       153\n",
      "20.0        47\n",
      "21.0       106\n",
      "22.0       191\n",
      "23.0        76\n",
      "24.0        24\n",
      "25.0        24\n",
      "26.0        51\n",
      "27.0         2\n",
      "28.0         7\n",
      "29.0         6\n",
      "1000.0      47\n",
      "Name: mid_range, dtype: int64\n"
     ]
    }
   ],
   "source": [
    "print(SP_data['mid_range'].value_counts().sort_index(ascending = True))"
   ]
  },
  {
   "cell_type": "markdown",
   "metadata": {},
   "source": [
    "В каждом километре, кроме нулевого, хватает данных для того, чтобы иметь уверенность в том, что какие-то аномалии не могут испортить всю картину. Построим график без нулевого километра."
   ]
  },
  {
   "cell_type": "code",
   "execution_count": 94,
   "metadata": {},
   "outputs": [
    {
     "data": {
      "text/plain": [
       "<matplotlib.axes._subplots.AxesSubplot at 0x7f963d31c510>"
      ]
     },
     "execution_count": 94,
     "metadata": {},
     "output_type": "execute_result"
    },
    {
     "data": {
      "image/png": "[encoded data removed]",
      "text/plain": [
       "<Figure size 864x360 with 1 Axes>"
      ]
     },
     "metadata": {
      "needs_background": "light"
     },
     "output_type": "display_data"
    }
   ],
   "source": [
    "SP_data[(SP_data['last_price']<100000000)&(SP_data['mid_range']<50)&(SP_data['rooms']<10)&\n",
    "        (SP_data[\"days_exposition\"]<10)&(SP_data['mid_range']>0)].pivot_table(index='mid_range', values='last_price',\n",
    "                                                     aggfunc = 'mean').plot(grid=True, figsize=(12, 5))\n"
   ]
  },
  {
   "cell_type": "markdown",
   "metadata": {},
   "source": [
    "Теперь легче сделать вывод о том, что примерный радиус центра города - 9 км."
   ]
  },
  {
   "cell_type": "markdown",
   "metadata": {},
   "source": [
    "Теперь займёмся исследованием квартир в центре города. Нас интересуют такие вещи, как площадь, цена, число комнат, высота потолков, а также такие факторы, как число комнат, этаж, удалённость от центра, дата размещения объявления. Определим, насколько сильно данные факторы влияют на цену квартиры, и отличается ли их влияние от влияния факторов во всём городе."
   ]
  },
  {
   "cell_type": "code",
   "execution_count": 87,
   "metadata": {},
   "outputs": [
    {
     "data": {
      "text/html": [
       "<div>\n",
       "<style scoped>\n",
       "    .dataframe tbody tr th:only-of-type {\n",
       "        vertical-align: middle;\n",
       "    }\n",
       "\n",
       "    .dataframe tbody tr th {\n",
       "        vertical-align: top;\n",
       "    }\n",
       "\n",
       "    .dataframe thead th {\n",
       "        text-align: right;\n",
       "    }\n",
       "</style>\n",
       "<table border=\"1\" class=\"dataframe\">\n",
       "  <thead>\n",
       "    <tr style=\"text-align: right;\">\n",
       "      <th></th>\n",
       "      <th>total_images</th>\n",
       "      <th>last_price</th>\n",
       "      <th>total_area</th>\n",
       "      <th>first_day_exposition</th>\n",
       "      <th>rooms</th>\n",
       "      <th>ceiling_height</th>\n",
       "      <th>floors_total</th>\n",
       "      <th>living_area</th>\n",
       "      <th>floor</th>\n",
       "      <th>is_apartment</th>\n",
       "      <th>...</th>\n",
       "      <th>kitchensize</th>\n",
       "      <th>livingsize</th>\n",
       "      <th>one_sq</th>\n",
       "      <th>Year</th>\n",
       "      <th>month</th>\n",
       "      <th>day_of_week</th>\n",
       "      <th>which_floor</th>\n",
       "      <th>liv/all</th>\n",
       "      <th>kit/all</th>\n",
       "      <th>mid_range</th>\n",
       "    </tr>\n",
       "  </thead>\n",
       "  <tbody>\n",
       "    <tr>\n",
       "      <td>4</td>\n",
       "      <td>2</td>\n",
       "      <td>10000000.0</td>\n",
       "      <td>100.00</td>\n",
       "      <td>2018-06-19</td>\n",
       "      <td>2</td>\n",
       "      <td>3.03</td>\n",
       "      <td>14</td>\n",
       "      <td>32.0</td>\n",
       "      <td>13</td>\n",
       "      <td>False</td>\n",
       "      <td>...</td>\n",
       "      <td>большая</td>\n",
       "      <td>больше средней</td>\n",
       "      <td>100000.000000</td>\n",
       "      <td>2018</td>\n",
       "      <td>6</td>\n",
       "      <td>1</td>\n",
       "      <td>0</td>\n",
       "      <td>0.320000</td>\n",
       "      <td>0.410000</td>\n",
       "      <td>8.0</td>\n",
       "    </tr>\n",
       "    <tr>\n",
       "      <td>24</td>\n",
       "      <td>8</td>\n",
       "      <td>6500000.0</td>\n",
       "      <td>97.20</td>\n",
       "      <td>2015-10-31</td>\n",
       "      <td>2</td>\n",
       "      <td>0.00</td>\n",
       "      <td>3</td>\n",
       "      <td>46.5</td>\n",
       "      <td>1</td>\n",
       "      <td>False</td>\n",
       "      <td>...</td>\n",
       "      <td>большая</td>\n",
       "      <td>больше средней</td>\n",
       "      <td>66872.427984</td>\n",
       "      <td>2015</td>\n",
       "      <td>10</td>\n",
       "      <td>5</td>\n",
       "      <td>-1</td>\n",
       "      <td>0.478395</td>\n",
       "      <td>0.201646</td>\n",
       "      <td>2.0</td>\n",
       "    </tr>\n",
       "    <tr>\n",
       "      <td>35</td>\n",
       "      <td>6</td>\n",
       "      <td>15500000.0</td>\n",
       "      <td>149.00</td>\n",
       "      <td>2017-06-26</td>\n",
       "      <td>5</td>\n",
       "      <td>0.00</td>\n",
       "      <td>5</td>\n",
       "      <td>104.0</td>\n",
       "      <td>4</td>\n",
       "      <td>False</td>\n",
       "      <td>...</td>\n",
       "      <td>большая</td>\n",
       "      <td>большая</td>\n",
       "      <td>104026.845638</td>\n",
       "      <td>2017</td>\n",
       "      <td>6</td>\n",
       "      <td>0</td>\n",
       "      <td>0</td>\n",
       "      <td>0.697987</td>\n",
       "      <td>0.114094</td>\n",
       "      <td>4.0</td>\n",
       "    </tr>\n",
       "    <tr>\n",
       "      <td>51</td>\n",
       "      <td>7</td>\n",
       "      <td>45000000.0</td>\n",
       "      <td>161.00</td>\n",
       "      <td>2017-10-17</td>\n",
       "      <td>3</td>\n",
       "      <td>3.20</td>\n",
       "      <td>8</td>\n",
       "      <td>38.0</td>\n",
       "      <td>4</td>\n",
       "      <td>False</td>\n",
       "      <td>...</td>\n",
       "      <td>большая</td>\n",
       "      <td>больше средней</td>\n",
       "      <td>279503.105590</td>\n",
       "      <td>2017</td>\n",
       "      <td>10</td>\n",
       "      <td>1</td>\n",
       "      <td>0</td>\n",
       "      <td>0.236025</td>\n",
       "      <td>0.310559</td>\n",
       "      <td>7.0</td>\n",
       "    </tr>\n",
       "    <tr>\n",
       "      <td>52</td>\n",
       "      <td>20</td>\n",
       "      <td>11795000.0</td>\n",
       "      <td>136.00</td>\n",
       "      <td>2017-09-22</td>\n",
       "      <td>6</td>\n",
       "      <td>3.00</td>\n",
       "      <td>2</td>\n",
       "      <td>94.0</td>\n",
       "      <td>2</td>\n",
       "      <td>False</td>\n",
       "      <td>...</td>\n",
       "      <td>больше средней</td>\n",
       "      <td>большая</td>\n",
       "      <td>86727.941176</td>\n",
       "      <td>2017</td>\n",
       "      <td>9</td>\n",
       "      <td>4</td>\n",
       "      <td>1</td>\n",
       "      <td>0.691176</td>\n",
       "      <td>0.080882</td>\n",
       "      <td>7.0</td>\n",
       "    </tr>\n",
       "    <tr>\n",
       "      <td>...</td>\n",
       "      <td>...</td>\n",
       "      <td>...</td>\n",
       "      <td>...</td>\n",
       "      <td>...</td>\n",
       "      <td>...</td>\n",
       "      <td>...</td>\n",
       "      <td>...</td>\n",
       "      <td>...</td>\n",
       "      <td>...</td>\n",
       "      <td>...</td>\n",
       "      <td>...</td>\n",
       "      <td>...</td>\n",
       "      <td>...</td>\n",
       "      <td>...</td>\n",
       "      <td>...</td>\n",
       "      <td>...</td>\n",
       "      <td>...</td>\n",
       "      <td>...</td>\n",
       "      <td>...</td>\n",
       "      <td>...</td>\n",
       "      <td>...</td>\n",
       "    </tr>\n",
       "    <tr>\n",
       "      <td>23674</td>\n",
       "      <td>10</td>\n",
       "      <td>5950000.0</td>\n",
       "      <td>56.00</td>\n",
       "      <td>2019-03-05</td>\n",
       "      <td>3</td>\n",
       "      <td>0.00</td>\n",
       "      <td>8</td>\n",
       "      <td>32.1</td>\n",
       "      <td>3</td>\n",
       "      <td>False</td>\n",
       "      <td>...</td>\n",
       "      <td>средняя</td>\n",
       "      <td>больше средней</td>\n",
       "      <td>106250.000000</td>\n",
       "      <td>2019</td>\n",
       "      <td>3</td>\n",
       "      <td>1</td>\n",
       "      <td>0</td>\n",
       "      <td>0.573214</td>\n",
       "      <td>0.151786</td>\n",
       "      <td>9.0</td>\n",
       "    </tr>\n",
       "    <tr>\n",
       "      <td>23681</td>\n",
       "      <td>13</td>\n",
       "      <td>5250000.0</td>\n",
       "      <td>43.00</td>\n",
       "      <td>2018-05-11</td>\n",
       "      <td>2</td>\n",
       "      <td>2.50</td>\n",
       "      <td>5</td>\n",
       "      <td>29.0</td>\n",
       "      <td>2</td>\n",
       "      <td>False</td>\n",
       "      <td>...</td>\n",
       "      <td>средняя</td>\n",
       "      <td>средняя</td>\n",
       "      <td>122093.023256</td>\n",
       "      <td>2018</td>\n",
       "      <td>5</td>\n",
       "      <td>4</td>\n",
       "      <td>0</td>\n",
       "      <td>0.674419</td>\n",
       "      <td>0.139535</td>\n",
       "      <td>7.0</td>\n",
       "    </tr>\n",
       "    <tr>\n",
       "      <td>23690</td>\n",
       "      <td>3</td>\n",
       "      <td>5500000.0</td>\n",
       "      <td>52.00</td>\n",
       "      <td>2018-07-19</td>\n",
       "      <td>2</td>\n",
       "      <td>0.00</td>\n",
       "      <td>5</td>\n",
       "      <td>31.0</td>\n",
       "      <td>2</td>\n",
       "      <td>False</td>\n",
       "      <td>...</td>\n",
       "      <td>средняя</td>\n",
       "      <td>больше средней</td>\n",
       "      <td>105769.230769</td>\n",
       "      <td>2018</td>\n",
       "      <td>7</td>\n",
       "      <td>3</td>\n",
       "      <td>0</td>\n",
       "      <td>0.596154</td>\n",
       "      <td>0.115385</td>\n",
       "      <td>6.0</td>\n",
       "    </tr>\n",
       "    <tr>\n",
       "      <td>23691</td>\n",
       "      <td>11</td>\n",
       "      <td>9470000.0</td>\n",
       "      <td>72.90</td>\n",
       "      <td>2016-10-13</td>\n",
       "      <td>2</td>\n",
       "      <td>2.75</td>\n",
       "      <td>25</td>\n",
       "      <td>40.3</td>\n",
       "      <td>7</td>\n",
       "      <td>False</td>\n",
       "      <td>...</td>\n",
       "      <td>больше средней</td>\n",
       "      <td>больше средней</td>\n",
       "      <td>129903.978052</td>\n",
       "      <td>2016</td>\n",
       "      <td>10</td>\n",
       "      <td>3</td>\n",
       "      <td>0</td>\n",
       "      <td>0.552812</td>\n",
       "      <td>0.145405</td>\n",
       "      <td>4.0</td>\n",
       "    </tr>\n",
       "    <tr>\n",
       "      <td>23694</td>\n",
       "      <td>9</td>\n",
       "      <td>9700000.0</td>\n",
       "      <td>133.81</td>\n",
       "      <td>2017-03-21</td>\n",
       "      <td>3</td>\n",
       "      <td>3.70</td>\n",
       "      <td>5</td>\n",
       "      <td>73.3</td>\n",
       "      <td>3</td>\n",
       "      <td>False</td>\n",
       "      <td>...</td>\n",
       "      <td>больше средней</td>\n",
       "      <td>большая</td>\n",
       "      <td>72490.845228</td>\n",
       "      <td>2017</td>\n",
       "      <td>3</td>\n",
       "      <td>1</td>\n",
       "      <td>0</td>\n",
       "      <td>0.547792</td>\n",
       "      <td>0.103356</td>\n",
       "      <td>4.0</td>\n",
       "    </tr>\n",
       "  </tbody>\n",
       "</table>\n",
       "<p>4409 rows × 32 columns</p>\n",
       "</div>"
      ],
      "text/plain": [
       "       total_images  last_price  total_area first_day_exposition  rooms  \\\n",
       "4                 2  10000000.0      100.00           2018-06-19      2   \n",
       "24                8   6500000.0       97.20           2015-10-31      2   \n",
       "35                6  15500000.0      149.00           2017-06-26      5   \n",
       "51                7  45000000.0      161.00           2017-10-17      3   \n",
       "52               20  11795000.0      136.00           2017-09-22      6   \n",
       "...             ...         ...         ...                  ...    ...   \n",
       "23674            10   5950000.0       56.00           2019-03-05      3   \n",
       "23681            13   5250000.0       43.00           2018-05-11      2   \n",
       "23690             3   5500000.0       52.00           2018-07-19      2   \n",
       "23691            11   9470000.0       72.90           2016-10-13      2   \n",
       "23694             9   9700000.0      133.81           2017-03-21      3   \n",
       "\n",
       "       ceiling_height  floors_total  living_area  floor  is_apartment  ...  \\\n",
       "4                3.03            14         32.0     13         False  ...   \n",
       "24               0.00             3         46.5      1         False  ...   \n",
       "35               0.00             5        104.0      4         False  ...   \n",
       "51               3.20             8         38.0      4         False  ...   \n",
       "52               3.00             2         94.0      2         False  ...   \n",
       "...               ...           ...          ...    ...           ...  ...   \n",
       "23674            0.00             8         32.1      3         False  ...   \n",
       "23681            2.50             5         29.0      2         False  ...   \n",
       "23690            0.00             5         31.0      2         False  ...   \n",
       "23691            2.75            25         40.3      7         False  ...   \n",
       "23694            3.70             5         73.3      3         False  ...   \n",
       "\n",
       "          kitchensize      livingsize         one_sq  Year month  day_of_week  \\\n",
       "4             большая  больше средней  100000.000000  2018     6            1   \n",
       "24            большая  больше средней   66872.427984  2015    10            5   \n",
       "35            большая         большая  104026.845638  2017     6            0   \n",
       "51            большая  больше средней  279503.105590  2017    10            1   \n",
       "52     больше средней         большая   86727.941176  2017     9            4   \n",
       "...               ...             ...            ...   ...   ...          ...   \n",
       "23674         средняя  больше средней  106250.000000  2019     3            1   \n",
       "23681         средняя         средняя  122093.023256  2018     5            4   \n",
       "23690         средняя  больше средней  105769.230769  2018     7            3   \n",
       "23691  больше средней  больше средней  129903.978052  2016    10            3   \n",
       "23694  больше средней         большая   72490.845228  2017     3            1   \n",
       "\n",
       "       which_floor   liv/all   kit/all  mid_range  \n",
       "4                0  0.320000  0.410000        8.0  \n",
       "24              -1  0.478395  0.201646        2.0  \n",
       "35               0  0.697987  0.114094        4.0  \n",
       "51               0  0.236025  0.310559        7.0  \n",
       "52               1  0.691176  0.080882        7.0  \n",
       "...            ...       ...       ...        ...  \n",
       "23674            0  0.573214  0.151786        9.0  \n",
       "23681            0  0.674419  0.139535        7.0  \n",
       "23690            0  0.596154  0.115385        6.0  \n",
       "23691            0  0.552812  0.145405        4.0  \n",
       "23694            0  0.547792  0.103356        4.0  \n",
       "\n",
       "[4409 rows x 32 columns]"
      ]
     },
     "metadata": {},
     "output_type": "display_data"
    }
   ],
   "source": [
    "SP_mid_data = SP_data[SP_data['mid_range']<=9].copy()\n",
    "\n",
    "display(SP_mid_data)\n",
    "\n"
   ]
  },
  {
   "cell_type": "code",
   "execution_count": 88,
   "metadata": {},
   "outputs": [
    {
     "name": "stdout",
     "output_type": "stream",
     "text": [
      "Максимальная площадь среди квартир 900.0\n",
      "Минимальная площадь среди квартир 12.0\n",
      "Средняя площадь квартир 86.40924472669539\n",
      "Медиана площади квартир 73.0\n",
      "Максимальная цена среди квартир 763000000.0\n",
      "Минимальная цена среди квартир 853300.0\n",
      "Средняя цена квартир 13205154.417101383\n",
      "Медиана цены квартир 8500000.0\n",
      "Максимальное число комнат среди квартир 19\n",
      "Минимальное число комнат среди квартир 1\n",
      "Среднее число комнат квартир 2.6947153549557723\n",
      "Медиана числа комнат квартир 3.0\n",
      "Максимальная высота потолка среди квартир 6.0\n",
      "Минимальная высота потолка комнат среди квартир 2.4\n",
      "Средняя высота потолка комнат квартир 3.020626489615253\n",
      "Медиана высоты потолка комнат квартир 3.0\n"
     ]
    }
   ],
   "source": [
    "print(\"Максимальная площадь среди квартир\", SP_mid_data['total_area'].max())\n",
    "\n",
    "print(\"Минимальная площадь среди квартир\", SP_mid_data['total_area'].min())\n",
    "\n",
    "print(\"Средняя площадь квартир\", SP_mid_data['total_area'].mean())\n",
    "\n",
    "print(\"Медиана площади квартир\", SP_mid_data['total_area'].median())\n",
    "\n",
    "print(\"Максимальная цена среди квартир\", SP_mid_data['last_price'].max())\n",
    "\n",
    "print(\"Минимальная цена среди квартир\", SP_mid_data['last_price'].min())\n",
    "\n",
    "print(\"Средняя цена квартир\", SP_mid_data['last_price'].mean())\n",
    "\n",
    "print(\"Медиана цены квартир\", SP_mid_data['last_price'].median())\n",
    "\n",
    "print(\"Максимальное число комнат среди квартир\", SP_mid_data['rooms'].max())\n",
    "\n",
    "print(\"Минимальное число комнат среди квартир\", SP_mid_data['rooms'].min())\n",
    "\n",
    "print(\"Среднее число комнат квартир\", SP_mid_data['rooms'].mean())\n",
    "\n",
    "print(\"Медиана числа комнат квартир\", SP_mid_data['rooms'].median())\n",
    "\n",
    "print(\"Максимальная высота потолка среди квартир\", SP_mid_data[SP_mid_data[\"ceiling_height\"]!=0]['ceiling_height'].max())\n",
    "\n",
    "print(\"Минимальная высота потолка комнат среди квартир\", SP_mid_data[SP_mid_data[\"ceiling_height\"]!=0]['ceiling_height'].min())\n",
    "\n",
    "print(\"Средняя высота потолка комнат квартир\", SP_mid_data[SP_mid_data[\"ceiling_height\"]!=0]['ceiling_height'].mean())\n",
    "\n",
    "print(\"Медиана высоты потолка комнат квартир\", SP_mid_data[SP_mid_data[\"ceiling_height\"]!=0]['ceiling_height'].median())"
   ]
  },
  {
   "cell_type": "markdown",
   "metadata": {},
   "source": [
    "Видим, что показатели площади, цены, числа комнат и даже высоты потолков выше, чем в среднем по рынку, что выглядит довольно реалистично. Теперь же оценим факторы влияния по сравнению с другими квартирами в Санкт-Петербурге. "
   ]
  },
  {
   "cell_type": "code",
   "execution_count": 90,
   "metadata": {},
   "outputs": [
    {
     "name": "stdout",
     "output_type": "stream",
     "text": [
      "Корреляция между ценой и комнатами  0.4540186632905733\n",
      "Корреляция между ценой и этажом  0.09137293815934057\n",
      "Корреляция между ценой и расстоянием от центра  -0.1772134916819227\n",
      "Корреляция между ценой и годом  -0.06250351412747314\n",
      "Корреляция между ценой и месяцем  0.009792929953469788\n",
      "Корреляция между ценой и днём  0.01041518318139212\n"
     ]
    }
   ],
   "source": [
    "print(\"Корреляция между ценой и комнатами \", SP_mid_data[SP_mid_data['last_price']<100000000]['last_price'].corr(SP_mid_data[SP_mid_data['rooms']<11]['rooms']))\n",
    "\n",
    "print(\"Корреляция между ценой и этажом \", SP_mid_data[SP_mid_data['last_price']<100000000]['last_price'].corr(SP_mid_data['which_floor']))\n",
    "\n",
    "print(\"Корреляция между ценой и расстоянием от центра \", SP_mid_data[SP_mid_data['last_price']<100000000]['last_price'].corr(SP_mid_data[(SP_mid_data['last_price']<100000000)]['mid_range']))\n",
    "\n",
    "print(\"Корреляция между ценой и годом \", SP_mid_data[SP_mid_data['last_price']<100000000]['last_price'].corr(SP_mid_data['Year']))\n",
    "\n",
    "print(\"Корреляция между ценой и месяцем \", SP_mid_data[SP_mid_data['last_price']<100000000]['last_price'].corr(SP_mid_data['month']))\n",
    "\n",
    "print(\"Корреляция между ценой и днём \", SP_mid_data[SP_mid_data['last_price']<100000000]['last_price'].corr(SP_mid_data['day_of_week']))"
   ]
  },
  {
   "cell_type": "code",
   "execution_count": 91,
   "metadata": {},
   "outputs": [
    {
     "name": "stdout",
     "output_type": "stream",
     "text": [
      "Корреляция между ценой и комнатами  0.4911057115593584\n",
      "Корреляция между ценой и этажом  0.08094120203583156\n",
      "Корреляция между ценой и расстоянием от центра  0.005763139412342654\n",
      "Корреляция между ценой и годом  -0.05199583733778853\n",
      "Корреляция между ценой и месяцем  0.0010113971198523913\n",
      "Корреляция между ценой и днём  0.000445588710353311\n"
     ]
    }
   ],
   "source": [
    "print(\"Корреляция между ценой и комнатами \", SP_data[SP_data['last_price']<100000000]['last_price'].corr(SP_data[SP_data['rooms']<11]['rooms']))\n",
    "\n",
    "print(\"Корреляция между ценой и этажом \", SP_data[SP_data['last_price']<100000000]['last_price'].corr(SP_data['which_floor']))\n",
    "\n",
    "print(\"Корреляция между ценой и расстоянием от центра \", SP_data[SP_data['last_price']<100000000]['last_price'].corr(SP_data[(SP_data['last_price']<100000000)]['mid_range']))\n",
    "\n",
    "print(\"Корреляция между ценой и годом \", SP_data[SP_data['last_price']<100000000]['last_price'].corr(SP_data['Year']))\n",
    "\n",
    "print(\"Корреляция между ценой и месяцем \", SP_data[SP_data['last_price']<100000000]['last_price'].corr(SP_data['month']))\n",
    "\n",
    "print(\"Корреляция между ценой и днём \", SP_data[SP_data['last_price']<100000000]['last_price'].corr(SP_data['day_of_week']))"
   ]
  },
  {
   "cell_type": "markdown",
   "metadata": {},
   "source": [
    "Можем наблюдать следующие факты: Влияние большинства факторов совпадает для квартир в центре относительно всех квартир в городе, что в общем логично. Основным отличием является зависимость цены от расстояния до центра. В случае центра города, чем дальше от центра - тем больше цена. В случае всего города, такой зависимости не наблюдается по коэффициентом корреляции. Хотя по графику видна та же зависимость: дальше от центра - меньше стоимость. Также появилась более очевидная зависимость от этажа, квартиры на первых этажах стоят дешевле, чем на последних. Опять же, это вполне логично. \n",
    "\n",
    "На основании всего вышесказанного можно утверждать, что различия между квартирами в центре города и на окраинах в плане влияния факторов стоимости незначительны. "
   ]
  },
  {
   "cell_type": "markdown",
   "metadata": {},
   "source": [
    "## Общий вывод"
   ]
  },
  {
   "cell_type": "markdown",
   "metadata": {},
   "source": [
    "На основании сделанных выше исследований можно сделать следующие выводы: \n",
    "    1) Основные показатели, которые определяют цену квартиры - её площадь, число комнат, а также расстояние от центра                  населённого пункта. \n",
    "    2) В меньшей степени влияет этаж квартиры, в центре города квартиры с последним этажом стоят в среднем немного дороже, чем        квартиры на первом \n",
    "    3) В центре города факторы цены квартиры не сильно отличаются от общих по городу за исключением расстояния до центра,              здесь имеется большее приращение цены к расстоянию до центра\n",
    "    4) На основании анализа цены квартир было установлено, что примерный радиус центра города Санкт-Петербург равен 9 км\n",
    "    \n",
    "Также стоит отметить, что число комнат и площадь квартиры довольно сильно связаны, поэтому, по сути, это можно считать одним параметром. \n",
    "\n",
    "Касательно времени продажи квартиры - можно считать, что быстрая продажа - это быстрее трёх недель, а медленная - дольше 14 месяцев. В среднем квартира продаётся около 4 месяцев. "
   ]
  },
  {
   "cell_type": "markdown",
   "metadata": {},
   "source": []
  },
  {
   "cell_type": "markdown",
   "metadata": {},
   "source": [
    "## Чек-лист готовности проекта\n",
    "\n",
    "Поставьте 'x' в выполненных пунктах. Далее нажмите Shift+Enter."
   ]
  },
  {
   "cell_type": "markdown",
   "metadata": {},
   "source": [
    "- [x]  открыт файл\n",
    "- [x]  файлы изучены (выведены первые строки, метод info())\n",
    "- [x]  определены пропущенные значения\n",
    "- [x]  заполнены пропущенные значения\n",
    "- [x]  есть пояснение, какие пропущенные значения обнаружены\n",
    "- [x]  изменены типы данных\n",
    "- [x]  есть пояснение, в каких столбцах изменены типы и почему\n",
    "- [x]  посчитано и добавлено в таблицу: цена квадратного метра\n",
    "- [x]  посчитано и добавлено в таблицу: день недели, месяц и год публикации объявления\n",
    "- [x]  посчитано и добавлено в таблицу: этаж квартиры; варианты — первый, последний, другой\n",
    "- [x]  посчитано и добавлено в таблицу: соотношение жилой и общей площади, а также отношение площади кухни к общей\n",
    "- [x]  изучены следующие параметры: площадь, цена, число комнат, высота потолков\n",
    "- [x]  построены гистограммы для каждого параметра\n",
    "- [x]  выполнено задание: \"Изучите время продажи квартиры. Постройте гистограмму. Посчитайте среднее и медиану. Опишите, сколько обычно занимает продажа. Когда можно считать, что продажи прошли очень быстро, а когда необычно долго?\"\n",
    "- [x]  выполнено задание: \"Уберите редкие и выбивающиеся значения. Опишите, какие особенности обнаружили.\"\n",
    "- [x]  выполнено задание: \"Какие факторы больше всего влияют на стоимость квартиры? Изучите, зависит ли цена от квадратного метра, числа комнат, этажа (первого или последнего), удалённости от центра. Также изучите зависимость от даты размещения: дня недели, месяца и года. \"Выберите 10 населённых пунктов с наибольшим числом объявлений. Посчитайте среднюю цену квадратного метра в этих населённых пунктах. Выделите населённые пункты с самой высокой и низкой стоимостью жилья. Эти данные можно найти по имени в столбце '*locality_name'*. \"\n",
    "- [x]  выполнено задание: \"Изучите предложения квартир: для каждой квартиры есть информация о расстоянии до центра. Выделите квартиры в Санкт-Петербурге (*'locality_name'*). Ваша задача — выяснить, какая область входит в центр. Создайте столбец с расстоянием до центра в километрах: округлите до целых значений. После этого посчитайте среднюю цену для каждого километра. Постройте график: он должен показывать, как цена зависит от удалённости от центра. Определите границу, где график сильно меняется — это и будет центральная зона. \"\n",
    "- [x]  выполнено задание: \"Выделите сегмент квартир в центре. Проанализируйте эту территорию и изучите следующие параметры: площадь, цена, число комнат, высота потолков. Также выделите факторы, которые влияют на стоимость квартиры (число комнат, этаж, удалённость от центра, дата размещения объявления). Сделайте выводы. Отличаются ли они от общих выводов по всему городу?\"\n",
    "- [x]  в каждом этапе есть выводы\n",
    "- [x]  есть общий вывод"
   ]
  },
  {
   "cell_type": "code",
   "execution_count": null,
   "metadata": {},
   "outputs": [],
   "source": []
  }
 ],
 "metadata": {
  "ExecuteTimeLog": [
   {
    "duration": 106,
    "start_time": "2022-01-08T15:54:18.499Z"
   },
   {
    "duration": 940,
    "start_time": "2022-01-08T15:54:23.915Z"
   },
   {
    "duration": 56,
    "start_time": "2022-01-08T15:54:40.286Z"
   },
   {
    "duration": 59,
    "start_time": "2022-01-08T15:54:51.910Z"
   },
   {
    "duration": 56,
    "start_time": "2022-01-08T15:55:05.702Z"
   },
   {
    "duration": 55,
    "start_time": "2022-01-08T15:55:20.630Z"
   },
   {
    "duration": 58,
    "start_time": "2022-01-08T16:01:15.117Z"
   },
   {
    "duration": 404,
    "start_time": "2022-01-08T16:01:36.139Z"
   },
   {
    "duration": 8816,
    "start_time": "2022-01-08T16:01:49.316Z"
   },
   {
    "duration": 8405,
    "start_time": "2022-01-08T16:01:59.325Z"
   },
   {
    "duration": 153,
    "start_time": "2022-01-08T16:02:17.706Z"
   },
   {
    "duration": 56,
    "start_time": "2022-01-08T16:02:22.587Z"
   },
   {
    "duration": 152,
    "start_time": "2022-01-08T16:02:44.514Z"
   },
   {
    "duration": 8332,
    "start_time": "2022-01-08T16:05:20.990Z"
   },
   {
    "duration": 51,
    "start_time": "2022-01-08T16:05:37.982Z"
   },
   {
    "duration": 66,
    "start_time": "2022-01-08T16:05:58.879Z"
   },
   {
    "duration": 157,
    "start_time": "2022-01-08T16:11:31.843Z"
   },
   {
    "duration": 109,
    "start_time": "2022-01-08T16:14:38.709Z"
   },
   {
    "duration": 171,
    "start_time": "2022-01-08T16:21:02.761Z"
   },
   {
    "duration": 62,
    "start_time": "2022-01-08T16:21:27.002Z"
   },
   {
    "duration": 81,
    "start_time": "2022-01-08T16:22:09.216Z"
   },
   {
    "duration": 53,
    "start_time": "2022-01-08T19:27:37.792Z"
   },
   {
    "duration": 54,
    "start_time": "2022-01-08T21:23:11.400Z"
   },
   {
    "duration": 53,
    "start_time": "2022-01-08T21:23:32.864Z"
   },
   {
    "duration": 123,
    "start_time": "2022-01-08T21:23:44.337Z"
   },
   {
    "duration": 84,
    "start_time": "2022-01-08T21:24:07.841Z"
   },
   {
    "duration": 69,
    "start_time": "2022-01-08T21:24:22.521Z"
   },
   {
    "duration": 94,
    "start_time": "2022-01-08T21:25:28.714Z"
   },
   {
    "duration": 84,
    "start_time": "2022-01-08T21:34:06.623Z"
   },
   {
    "duration": 10744,
    "start_time": "2022-01-08T21:34:35.410Z"
   },
   {
    "duration": 412,
    "start_time": "2022-01-08T21:35:01.881Z"
   },
   {
    "duration": 95,
    "start_time": "2022-01-08T21:35:43.105Z"
   },
   {
    "duration": 490,
    "start_time": "2022-01-08T21:36:09.137Z"
   },
   {
    "duration": 70,
    "start_time": "2022-01-08T21:36:14.881Z"
   },
   {
    "duration": 617,
    "start_time": "2022-01-09T11:34:49.354Z"
   },
   {
    "duration": 39,
    "start_time": "2022-01-09T12:12:14.940Z"
   },
   {
    "duration": 107,
    "start_time": "2022-01-09T12:13:44.015Z"
   },
   {
    "duration": 10,
    "start_time": "2022-01-09T12:13:47.695Z"
   },
   {
    "duration": 234,
    "start_time": "2022-01-09T12:15:23.967Z"
   },
   {
    "duration": 95,
    "start_time": "2022-01-09T12:15:44.288Z"
   },
   {
    "duration": 179,
    "start_time": "2022-01-09T12:15:48.176Z"
   },
   {
    "duration": 174,
    "start_time": "2022-01-09T12:17:00.449Z"
   },
   {
    "duration": 193,
    "start_time": "2022-01-09T12:19:05.826Z"
   },
   {
    "duration": 15,
    "start_time": "2022-01-09T12:20:53.562Z"
   },
   {
    "duration": 32,
    "start_time": "2022-01-09T12:21:07.603Z"
   },
   {
    "duration": 44,
    "start_time": "2022-01-09T12:26:07.598Z"
   },
   {
    "duration": 98,
    "start_time": "2022-01-09T12:27:08.088Z"
   },
   {
    "duration": 242,
    "start_time": "2022-01-09T12:27:11.672Z"
   },
   {
    "duration": 34,
    "start_time": "2022-01-09T12:27:24.096Z"
   },
   {
    "duration": 34,
    "start_time": "2022-01-09T12:27:37.928Z"
   },
   {
    "duration": 465,
    "start_time": "2022-01-09T12:33:14.443Z"
   },
   {
    "duration": 52,
    "start_time": "2022-01-09T12:33:24.060Z"
   },
   {
    "duration": 105,
    "start_time": "2022-01-09T13:13:03.069Z"
   },
   {
    "duration": 39,
    "start_time": "2022-01-09T13:13:08.142Z"
   },
   {
    "duration": 44,
    "start_time": "2022-01-09T13:20:15.419Z"
   },
   {
    "duration": 88,
    "start_time": "2022-01-09T13:24:39.533Z"
   },
   {
    "duration": 96,
    "start_time": "2022-01-09T13:28:08.442Z"
   },
   {
    "duration": 4233,
    "start_time": "2022-01-09T13:28:08.539Z"
   },
   {
    "duration": 46,
    "start_time": "2022-01-09T13:28:22.055Z"
   },
   {
    "duration": 42,
    "start_time": "2022-01-09T13:30:04.841Z"
   },
   {
    "duration": 68,
    "start_time": "2022-01-09T13:31:34.627Z"
   },
   {
    "duration": 84,
    "start_time": "2022-01-09T13:36:28.681Z"
   },
   {
    "duration": 226,
    "start_time": "2022-01-09T13:43:47.634Z"
   },
   {
    "duration": 230,
    "start_time": "2022-01-09T13:44:08.091Z"
   },
   {
    "duration": 224,
    "start_time": "2022-01-09T13:44:14.739Z"
   },
   {
    "duration": 264,
    "start_time": "2022-01-09T13:44:23.321Z"
   },
   {
    "duration": 263,
    "start_time": "2022-01-09T13:45:15.747Z"
   },
   {
    "duration": 241,
    "start_time": "2022-01-09T13:46:00.197Z"
   },
   {
    "duration": 77,
    "start_time": "2022-01-09T13:46:12.956Z"
   },
   {
    "duration": 112,
    "start_time": "2022-01-09T13:46:25.668Z"
   },
   {
    "duration": 90,
    "start_time": "2022-01-09T13:46:41.846Z"
   },
   {
    "duration": 103,
    "start_time": "2022-01-09T13:48:01.437Z"
   },
   {
    "duration": 96,
    "start_time": "2022-01-09T13:48:09.198Z"
   },
   {
    "duration": 60,
    "start_time": "2022-01-09T13:57:35.021Z"
   },
   {
    "duration": 66,
    "start_time": "2022-01-09T13:57:51.692Z"
   },
   {
    "duration": 63,
    "start_time": "2022-01-09T13:58:02.100Z"
   },
   {
    "duration": 63,
    "start_time": "2022-01-09T13:58:07.765Z"
   },
   {
    "duration": 60,
    "start_time": "2022-01-09T13:58:46.693Z"
   },
   {
    "duration": 315,
    "start_time": "2022-01-09T14:00:05.701Z"
   },
   {
    "duration": 1965,
    "start_time": "2022-01-09T14:00:28.094Z"
   },
   {
    "duration": 2128,
    "start_time": "2022-01-09T14:00:49.790Z"
   },
   {
    "duration": 2365,
    "start_time": "2022-01-09T14:01:00.119Z"
   },
   {
    "duration": 2241,
    "start_time": "2022-01-09T14:01:12.923Z"
   },
   {
    "duration": 61,
    "start_time": "2022-01-09T14:04:20.964Z"
   },
   {
    "duration": 2412,
    "start_time": "2022-01-09T14:04:28.415Z"
   },
   {
    "duration": 2297,
    "start_time": "2022-01-09T14:06:26.546Z"
   },
   {
    "duration": 2392,
    "start_time": "2022-01-09T14:06:36.930Z"
   },
   {
    "duration": 2634,
    "start_time": "2022-01-09T14:06:46.171Z"
   },
   {
    "duration": 2922,
    "start_time": "2022-01-09T14:08:21.747Z"
   },
   {
    "duration": 2226,
    "start_time": "2022-01-09T14:08:34.587Z"
   },
   {
    "duration": 2204,
    "start_time": "2022-01-09T14:09:39.821Z"
   },
   {
    "duration": 2113,
    "start_time": "2022-01-09T14:10:15.005Z"
   },
   {
    "duration": 2245,
    "start_time": "2022-01-09T14:11:30.926Z"
   },
   {
    "duration": 61,
    "start_time": "2022-01-09T14:22:47.880Z"
   },
   {
    "duration": 226,
    "start_time": "2022-01-09T14:23:46.847Z"
   },
   {
    "duration": 205,
    "start_time": "2022-01-09T14:24:29.253Z"
   },
   {
    "duration": 206,
    "start_time": "2022-01-09T14:25:15.141Z"
   },
   {
    "duration": 207,
    "start_time": "2022-01-09T14:25:43.965Z"
   },
   {
    "duration": 89,
    "start_time": "2022-01-09T14:25:50.365Z"
   },
   {
    "duration": 100,
    "start_time": "2022-01-09T14:28:45.823Z"
   },
   {
    "duration": 112,
    "start_time": "2022-01-09T14:28:52.007Z"
   },
   {
    "duration": 237,
    "start_time": "2022-01-09T14:29:29.307Z"
   },
   {
    "duration": 75,
    "start_time": "2022-01-09T14:29:33.632Z"
   },
   {
    "duration": 92,
    "start_time": "2022-01-09T14:29:51.567Z"
   },
   {
    "duration": 125,
    "start_time": "2022-01-09T14:29:55.897Z"
   },
   {
    "duration": 73,
    "start_time": "2022-01-09T14:39:03.069Z"
   },
   {
    "duration": 239,
    "start_time": "2022-01-09T14:39:10.751Z"
   },
   {
    "duration": 236,
    "start_time": "2022-01-09T14:39:33.832Z"
   },
   {
    "duration": 136,
    "start_time": "2022-01-09T14:45:29.397Z"
   },
   {
    "duration": 5,
    "start_time": "2022-01-09T14:47:25.437Z"
   },
   {
    "duration": 182,
    "start_time": "2022-01-09T14:47:38.197Z"
   },
   {
    "duration": 4,
    "start_time": "2022-01-09T14:48:13.221Z"
   },
   {
    "duration": 9,
    "start_time": "2022-01-09T14:48:31.694Z"
   },
   {
    "duration": 102,
    "start_time": "2022-01-09T14:49:10.764Z"
   },
   {
    "duration": 91,
    "start_time": "2022-01-09T14:50:45.933Z"
   },
   {
    "duration": 69,
    "start_time": "2022-01-09T15:18:29.361Z"
   },
   {
    "duration": 332,
    "start_time": "2022-01-09T15:18:40.603Z"
   },
   {
    "duration": 244,
    "start_time": "2022-01-09T15:18:50.716Z"
   },
   {
    "duration": 364,
    "start_time": "2022-01-09T15:20:17.045Z"
   },
   {
    "duration": 131,
    "start_time": "2022-01-09T15:20:22.221Z"
   },
   {
    "duration": 170,
    "start_time": "2022-01-09T15:33:23.335Z"
   },
   {
    "duration": 137,
    "start_time": "2022-01-09T15:33:40.551Z"
   },
   {
    "duration": 173,
    "start_time": "2022-01-09T15:34:11.344Z"
   },
   {
    "duration": 136,
    "start_time": "2022-01-09T15:35:47.554Z"
   },
   {
    "duration": 127,
    "start_time": "2022-01-09T15:37:45.312Z"
   },
   {
    "duration": 142,
    "start_time": "2022-01-09T15:39:53.923Z"
   },
   {
    "duration": 143,
    "start_time": "2022-01-09T15:40:30.317Z"
   },
   {
    "duration": 85,
    "start_time": "2022-01-09T15:42:59.094Z"
   },
   {
    "duration": 115,
    "start_time": "2022-01-09T15:43:02.965Z"
   },
   {
    "duration": 134,
    "start_time": "2022-01-09T15:52:04.745Z"
   },
   {
    "duration": 137,
    "start_time": "2022-01-09T15:58:32.545Z"
   },
   {
    "duration": 124,
    "start_time": "2022-01-09T15:58:49.248Z"
   },
   {
    "duration": 275,
    "start_time": "2022-01-09T15:59:01.633Z"
   },
   {
    "duration": 2414,
    "start_time": "2022-01-09T21:21:18.489Z"
   },
   {
    "duration": 72,
    "start_time": "2022-01-09T21:21:20.905Z"
   },
   {
    "duration": 96,
    "start_time": "2022-01-09T21:21:35.675Z"
   },
   {
    "duration": 169,
    "start_time": "2022-01-09T21:21:35.773Z"
   },
   {
    "duration": 103,
    "start_time": "2022-01-09T21:22:14.860Z"
   },
   {
    "duration": 99,
    "start_time": "2022-01-09T21:22:24.747Z"
   },
   {
    "duration": 162,
    "start_time": "2022-01-09T21:22:24.848Z"
   },
   {
    "duration": 118,
    "start_time": "2022-01-09T21:26:17.374Z"
   },
   {
    "duration": 114,
    "start_time": "2022-01-09T22:31:11.167Z"
   },
   {
    "duration": 127,
    "start_time": "2022-01-09T22:33:57.537Z"
   },
   {
    "duration": 149,
    "start_time": "2022-01-09T22:34:05.665Z"
   },
   {
    "duration": 147,
    "start_time": "2022-01-09T22:34:32.475Z"
   },
   {
    "duration": 144,
    "start_time": "2022-01-09T22:34:43.755Z"
   },
   {
    "duration": 112,
    "start_time": "2022-01-09T22:35:07.756Z"
   },
   {
    "duration": 120,
    "start_time": "2022-01-09T22:35:25.786Z"
   },
   {
    "duration": 111,
    "start_time": "2022-01-09T22:36:43.227Z"
   },
   {
    "duration": 112,
    "start_time": "2022-01-09T22:36:57.114Z"
   },
   {
    "duration": 132,
    "start_time": "2022-01-09T22:37:23.444Z"
   },
   {
    "duration": 99,
    "start_time": "2022-01-09T22:37:36.915Z"
   },
   {
    "duration": 152,
    "start_time": "2022-01-09T22:37:37.016Z"
   },
   {
    "duration": 117,
    "start_time": "2022-01-09T22:37:51.427Z"
   },
   {
    "duration": 129,
    "start_time": "2022-01-09T22:38:17.283Z"
   },
   {
    "duration": 156,
    "start_time": "2022-01-09T22:38:23.676Z"
   },
   {
    "duration": 98,
    "start_time": "2022-01-09T22:38:46.523Z"
   },
   {
    "duration": 364,
    "start_time": "2022-01-09T22:38:46.623Z"
   },
   {
    "duration": 190,
    "start_time": "2022-01-09T22:39:19.476Z"
   },
   {
    "duration": 99,
    "start_time": "2022-01-09T22:39:42.788Z"
   },
   {
    "duration": 297,
    "start_time": "2022-01-09T22:39:42.889Z"
   },
   {
    "duration": 254,
    "start_time": "2022-01-09T22:39:54.941Z"
   },
   {
    "duration": 104,
    "start_time": "2022-01-09T22:40:14.661Z"
   },
   {
    "duration": 224,
    "start_time": "2022-01-09T22:40:14.767Z"
   },
   {
    "duration": 273,
    "start_time": "2022-01-09T22:43:29.167Z"
   },
   {
    "duration": 273,
    "start_time": "2022-01-09T22:44:29.040Z"
   },
   {
    "duration": 108,
    "start_time": "2022-01-10T12:21:00.547Z"
   },
   {
    "duration": 365,
    "start_time": "2022-01-10T12:21:08.949Z"
   },
   {
    "duration": 309,
    "start_time": "2022-01-10T12:21:38.231Z"
   },
   {
    "duration": 980,
    "start_time": "2022-01-10T12:57:30.730Z"
   },
   {
    "duration": 527,
    "start_time": "2022-01-10T12:57:31.713Z"
   },
   {
    "duration": 391,
    "start_time": "2022-01-10T12:57:32.243Z"
   },
   {
    "duration": 485,
    "start_time": "2022-01-10T12:58:12.033Z"
   },
   {
    "duration": 5775,
    "start_time": "2022-01-10T13:03:21.589Z"
   },
   {
    "duration": -387,
    "start_time": "2022-01-10T13:05:33.639Z"
   },
   {
    "duration": 22,
    "start_time": "2022-01-10T13:05:41.726Z"
   },
   {
    "duration": -386,
    "start_time": "2022-01-10T13:06:01.333Z"
   },
   {
    "duration": 494,
    "start_time": "2022-01-10T13:06:02.518Z"
   },
   {
    "duration": 4749,
    "start_time": "2022-01-10T13:06:13.327Z"
   },
   {
    "duration": 33,
    "start_time": "2022-01-10T13:11:09.515Z"
   },
   {
    "duration": 317,
    "start_time": "2022-01-10T13:11:28.114Z"
   },
   {
    "duration": 385,
    "start_time": "2022-01-10T13:11:51.283Z"
   },
   {
    "duration": 339,
    "start_time": "2022-01-10T13:12:03.011Z"
   },
   {
    "duration": 349,
    "start_time": "2022-01-10T13:12:17.060Z"
   },
   {
    "duration": 567,
    "start_time": "2022-01-10T13:12:28.276Z"
   },
   {
    "duration": 78,
    "start_time": "2022-01-10T13:33:04.486Z"
   },
   {
    "duration": 66,
    "start_time": "2022-01-10T13:48:41.190Z"
   },
   {
    "duration": 137,
    "start_time": "2022-01-10T13:58:28.573Z"
   },
   {
    "duration": 616,
    "start_time": "2022-01-10T13:58:28.713Z"
   },
   {
    "duration": 90,
    "start_time": "2022-01-10T13:58:29.332Z"
   },
   {
    "duration": 72,
    "start_time": "2022-01-10T13:59:01.125Z"
   },
   {
    "duration": 64,
    "start_time": "2022-01-10T13:59:29.319Z"
   },
   {
    "duration": 119,
    "start_time": "2022-01-10T14:03:15.201Z"
   },
   {
    "duration": 106,
    "start_time": "2022-01-10T14:03:29.466Z"
   },
   {
    "duration": 62,
    "start_time": "2022-01-10T14:04:36.242Z"
   },
   {
    "duration": 71,
    "start_time": "2022-01-10T14:07:29.964Z"
   },
   {
    "duration": 71,
    "start_time": "2022-01-10T14:08:57.309Z"
   },
   {
    "duration": 207,
    "start_time": "2022-01-10T14:09:17.228Z"
   },
   {
    "duration": 133,
    "start_time": "2022-01-10T14:10:20.811Z"
   },
   {
    "duration": 511,
    "start_time": "2022-01-10T14:10:20.947Z"
   },
   {
    "duration": 812,
    "start_time": "2022-01-10T14:10:21.463Z"
   },
   {
    "duration": 92,
    "start_time": "2022-01-10T14:10:42.925Z"
   },
   {
    "duration": 68,
    "start_time": "2022-01-10T14:10:56.493Z"
   },
   {
    "duration": 12,
    "start_time": "2022-01-10T14:16:45.777Z"
   },
   {
    "duration": 10,
    "start_time": "2022-01-10T14:16:57.026Z"
   },
   {
    "duration": 9,
    "start_time": "2022-01-10T14:17:02.706Z"
   },
   {
    "duration": 11,
    "start_time": "2022-01-10T14:35:41.581Z"
   },
   {
    "duration": 16,
    "start_time": "2022-01-10T14:51:15.425Z"
   },
   {
    "duration": 21,
    "start_time": "2022-01-10T14:53:14.275Z"
   },
   {
    "duration": 143,
    "start_time": "2022-01-10T14:56:41.062Z"
   },
   {
    "duration": 410,
    "start_time": "2022-01-10T14:56:49.246Z"
   },
   {
    "duration": 25,
    "start_time": "2022-01-10T15:00:57.241Z"
   },
   {
    "duration": 115,
    "start_time": "2022-01-10T15:01:06.002Z"
   },
   {
    "duration": 24,
    "start_time": "2022-01-10T15:02:34.619Z"
   },
   {
    "duration": 38,
    "start_time": "2022-01-10T15:02:54.787Z"
   },
   {
    "duration": 469,
    "start_time": "2022-01-10T15:09:44.583Z"
   },
   {
    "duration": 3172,
    "start_time": "2022-01-10T15:09:51.528Z"
   },
   {
    "duration": 3451,
    "start_time": "2022-01-10T15:10:07.500Z"
   },
   {
    "duration": 3633,
    "start_time": "2022-01-10T15:11:23.130Z"
   },
   {
    "duration": 3609,
    "start_time": "2022-01-10T15:11:38.866Z"
   },
   {
    "duration": 347,
    "start_time": "2022-01-10T15:23:08.447Z"
   },
   {
    "duration": 139,
    "start_time": "2022-01-10T15:23:13.682Z"
   },
   {
    "duration": 539,
    "start_time": "2022-01-10T15:23:13.824Z"
   },
   {
    "duration": 80,
    "start_time": "2022-01-10T15:23:14.366Z"
   },
   {
    "duration": 42,
    "start_time": "2022-01-10T15:23:14.464Z"
   },
   {
    "duration": 339,
    "start_time": "2022-01-10T15:23:14.508Z"
   },
   {
    "duration": 543,
    "start_time": "2022-01-10T15:23:22.594Z"
   },
   {
    "duration": 244,
    "start_time": "2022-01-10T15:23:33.215Z"
   },
   {
    "duration": 420,
    "start_time": "2022-01-10T15:24:04.554Z"
   },
   {
    "duration": 3071,
    "start_time": "2022-01-10T15:26:55.741Z"
   },
   {
    "duration": 3844,
    "start_time": "2022-01-10T15:30:50.537Z"
   },
   {
    "duration": 4191,
    "start_time": "2022-01-10T15:31:19.624Z"
   },
   {
    "duration": 4371,
    "start_time": "2022-01-10T15:32:02.866Z"
   },
   {
    "duration": 5189,
    "start_time": "2022-01-10T15:32:47.777Z"
   },
   {
    "duration": 5022,
    "start_time": "2022-01-10T15:33:21.434Z"
   },
   {
    "duration": 5256,
    "start_time": "2022-01-10T15:34:02.507Z"
   },
   {
    "duration": 5038,
    "start_time": "2022-01-10T15:55:12.650Z"
   },
   {
    "duration": 5986,
    "start_time": "2022-01-10T15:56:05.891Z"
   },
   {
    "duration": 18,
    "start_time": "2022-01-10T16:15:20.215Z"
   },
   {
    "duration": 413,
    "start_time": "2022-01-10T16:16:49.337Z"
   },
   {
    "duration": 17,
    "start_time": "2022-01-10T16:18:18.387Z"
   },
   {
    "duration": 37,
    "start_time": "2022-01-10T16:19:35.043Z"
   },
   {
    "duration": 3746,
    "start_time": "2022-01-10T16:35:12.119Z"
   },
   {
    "duration": 8708,
    "start_time": "2022-01-10T16:37:25.928Z"
   },
   {
    "duration": 39,
    "start_time": "2022-01-10T16:38:05.474Z"
   },
   {
    "duration": 137,
    "start_time": "2022-01-10T16:38:42.780Z"
   },
   {
    "duration": 537,
    "start_time": "2022-01-10T16:38:42.920Z"
   },
   {
    "duration": 75,
    "start_time": "2022-01-10T16:38:43.464Z"
   },
   {
    "duration": 59,
    "start_time": "2022-01-10T16:38:43.542Z"
   },
   {
    "duration": 4689,
    "start_time": "2022-01-10T16:38:43.603Z"
   },
   {
    "duration": 3129,
    "start_time": "2022-01-10T16:38:48.295Z"
   },
   {
    "duration": -217,
    "start_time": "2022-01-10T16:38:51.643Z"
   },
   {
    "duration": 54,
    "start_time": "2022-01-10T16:40:26.250Z"
   },
   {
    "duration": 41,
    "start_time": "2022-01-10T16:40:33.162Z"
   },
   {
    "duration": 37,
    "start_time": "2022-01-10T16:40:40.363Z"
   },
   {
    "duration": 103,
    "start_time": "2022-01-10T16:41:55.716Z"
   },
   {
    "duration": 39,
    "start_time": "2022-01-10T16:42:07.396Z"
   },
   {
    "duration": 140,
    "start_time": "2022-01-10T16:42:16.334Z"
   },
   {
    "duration": 575,
    "start_time": "2022-01-10T16:42:16.477Z"
   },
   {
    "duration": 82,
    "start_time": "2022-01-10T16:42:17.064Z"
   },
   {
    "duration": 42,
    "start_time": "2022-01-10T16:42:17.162Z"
   },
   {
    "duration": 5229,
    "start_time": "2022-01-10T16:42:17.207Z"
   },
   {
    "duration": 48,
    "start_time": "2022-01-10T16:42:22.438Z"
   },
   {
    "duration": 8912,
    "start_time": "2022-01-10T16:42:22.488Z"
   },
   {
    "duration": 8358,
    "start_time": "2022-01-10T16:42:40.020Z"
   },
   {
    "duration": 817,
    "start_time": "2022-01-11T13:14:12.979Z"
   },
   {
    "duration": 460,
    "start_time": "2022-01-11T13:14:13.798Z"
   },
   {
    "duration": 48,
    "start_time": "2022-01-11T13:14:14.260Z"
   },
   {
    "duration": 39,
    "start_time": "2022-01-11T13:14:14.310Z"
   },
   {
    "duration": 2468,
    "start_time": "2022-01-11T13:14:14.350Z"
   },
   {
    "duration": 26,
    "start_time": "2022-01-11T13:14:16.820Z"
   },
   {
    "duration": 4282,
    "start_time": "2022-01-11T13:14:16.847Z"
   },
   {
    "duration": 2,
    "start_time": "2022-01-11T13:14:21.131Z"
   },
   {
    "duration": 1253,
    "start_time": "2022-01-11T14:12:27.565Z"
   },
   {
    "duration": 6,
    "start_time": "2022-01-11T14:12:42.925Z"
   },
   {
    "duration": 7,
    "start_time": "2022-01-11T14:12:54.525Z"
   },
   {
    "duration": 14,
    "start_time": "2022-01-11T14:24:59.319Z"
   },
   {
    "duration": 183,
    "start_time": "2022-01-11T14:25:46.646Z"
   },
   {
    "duration": 314,
    "start_time": "2022-01-11T14:25:56.254Z"
   },
   {
    "duration": 439,
    "start_time": "2022-01-11T14:26:01.814Z"
   },
   {
    "duration": 9,
    "start_time": "2022-01-11T14:43:31.851Z"
   },
   {
    "duration": 18,
    "start_time": "2022-01-11T14:45:04.747Z"
   },
   {
    "duration": 13,
    "start_time": "2022-01-11T14:45:12.892Z"
   },
   {
    "duration": 13,
    "start_time": "2022-01-11T14:45:31.972Z"
   },
   {
    "duration": 13,
    "start_time": "2022-01-11T14:45:38.868Z"
   },
   {
    "duration": 13,
    "start_time": "2022-01-11T14:45:43.748Z"
   },
   {
    "duration": 12,
    "start_time": "2022-01-11T14:45:48.860Z"
   },
   {
    "duration": 24,
    "start_time": "2022-01-11T14:54:32.012Z"
   },
   {
    "duration": 17,
    "start_time": "2022-01-11T14:54:41.396Z"
   },
   {
    "duration": 25,
    "start_time": "2022-01-11T14:55:30.932Z"
   },
   {
    "duration": 440,
    "start_time": "2022-01-11T15:10:30.502Z"
   },
   {
    "duration": 608,
    "start_time": "2022-01-11T15:10:47.398Z"
   },
   {
    "duration": 588,
    "start_time": "2022-01-11T15:10:56.710Z"
   },
   {
    "duration": 9,
    "start_time": "2022-01-11T15:14:31.426Z"
   },
   {
    "duration": 10,
    "start_time": "2022-01-11T15:14:36.033Z"
   },
   {
    "duration": 9,
    "start_time": "2022-01-11T15:14:39.424Z"
   },
   {
    "duration": 9,
    "start_time": "2022-01-11T15:14:43.467Z"
   },
   {
    "duration": 9,
    "start_time": "2022-01-11T15:14:46.288Z"
   },
   {
    "duration": 9,
    "start_time": "2022-01-11T15:14:50.025Z"
   },
   {
    "duration": 9,
    "start_time": "2022-01-11T15:14:56.785Z"
   },
   {
    "duration": 9,
    "start_time": "2022-01-11T15:14:59.954Z"
   },
   {
    "duration": 9,
    "start_time": "2022-01-11T15:15:03.769Z"
   },
   {
    "duration": 12,
    "start_time": "2022-01-11T15:15:06.225Z"
   },
   {
    "duration": 10,
    "start_time": "2022-01-11T15:15:37.434Z"
   },
   {
    "duration": 9,
    "start_time": "2022-01-11T15:19:37.097Z"
   },
   {
    "duration": 4,
    "start_time": "2022-01-11T16:01:09.299Z"
   },
   {
    "duration": 2065,
    "start_time": "2022-01-11T16:15:04.172Z"
   },
   {
    "duration": 86,
    "start_time": "2022-01-11T16:23:32.750Z"
   },
   {
    "duration": 309,
    "start_time": "2022-01-11T16:23:32.838Z"
   },
   {
    "duration": 160,
    "start_time": "2022-01-11T16:23:33.148Z"
   },
   {
    "duration": 215,
    "start_time": "2022-01-11T16:23:33.095Z"
   },
   {
    "duration": 215,
    "start_time": "2022-01-11T16:23:33.096Z"
   },
   {
    "duration": 215,
    "start_time": "2022-01-11T16:23:33.097Z"
   },
   {
    "duration": 214,
    "start_time": "2022-01-11T16:23:33.099Z"
   },
   {
    "duration": 213,
    "start_time": "2022-01-11T16:23:33.101Z"
   },
   {
    "duration": 212,
    "start_time": "2022-01-11T16:23:33.103Z"
   },
   {
    "duration": 212,
    "start_time": "2022-01-11T16:23:33.104Z"
   },
   {
    "duration": 8495,
    "start_time": "2022-01-11T16:23:33.317Z"
   },
   {
    "duration": 86,
    "start_time": "2022-01-11T16:24:12.846Z"
   },
   {
    "duration": 295,
    "start_time": "2022-01-11T16:24:12.934Z"
   },
   {
    "duration": 43,
    "start_time": "2022-01-11T16:24:13.231Z"
   },
   {
    "duration": 25,
    "start_time": "2022-01-11T16:24:13.276Z"
   },
   {
    "duration": 2373,
    "start_time": "2022-01-11T16:24:13.302Z"
   },
   {
    "duration": 22,
    "start_time": "2022-01-11T16:24:15.677Z"
   },
   {
    "duration": 4169,
    "start_time": "2022-01-11T16:24:15.701Z"
   },
   {
    "duration": 568,
    "start_time": "2022-01-11T16:24:19.871Z"
   },
   {
    "duration": 692,
    "start_time": "2022-01-11T16:24:20.441Z"
   },
   {
    "duration": 10,
    "start_time": "2022-01-11T16:24:21.134Z"
   },
   {
    "duration": 8,
    "start_time": "2022-01-11T16:24:21.145Z"
   },
   {
    "duration": 11,
    "start_time": "2022-01-11T16:42:26.443Z"
   },
   {
    "duration": 13,
    "start_time": "2022-01-11T16:44:00.096Z"
   },
   {
    "duration": 997,
    "start_time": "2022-01-11T18:47:57.106Z"
   },
   {
    "duration": 521,
    "start_time": "2022-01-11T18:47:58.106Z"
   },
   {
    "duration": 88,
    "start_time": "2022-01-11T18:47:58.631Z"
   },
   {
    "duration": 55,
    "start_time": "2022-01-11T18:47:58.722Z"
   },
   {
    "duration": 4664,
    "start_time": "2022-01-11T18:47:58.779Z"
   },
   {
    "duration": 47,
    "start_time": "2022-01-11T18:48:03.446Z"
   },
   {
    "duration": 8080,
    "start_time": "2022-01-11T18:48:03.495Z"
   },
   {
    "duration": 1255,
    "start_time": "2022-01-11T18:48:11.579Z"
   },
   {
    "duration": 1104,
    "start_time": "2022-01-11T18:48:12.837Z"
   },
   {
    "duration": 28,
    "start_time": "2022-01-11T18:48:13.944Z"
   },
   {
    "duration": 18,
    "start_time": "2022-01-11T18:48:13.975Z"
   },
   {
    "duration": 734,
    "start_time": "2022-01-11T18:48:13.996Z"
   },
   {
    "duration": 747,
    "start_time": "2022-01-11T18:58:29.957Z"
   },
   {
    "duration": 1595,
    "start_time": "2022-01-11T19:00:29.287Z"
   },
   {
    "duration": 180,
    "start_time": "2022-01-11T21:54:31.508Z"
   },
   {
    "duration": 585,
    "start_time": "2022-01-11T22:00:59.026Z"
   },
   {
    "duration": 588,
    "start_time": "2022-01-11T22:00:59.029Z"
   },
   {
    "duration": 590,
    "start_time": "2022-01-11T22:00:59.034Z"
   },
   {
    "duration": 589,
    "start_time": "2022-01-11T22:00:59.041Z"
   },
   {
    "duration": 588,
    "start_time": "2022-01-11T22:00:59.048Z"
   },
   {
    "duration": 565,
    "start_time": "2022-01-11T22:00:59.077Z"
   },
   {
    "duration": 568,
    "start_time": "2022-01-11T22:00:59.080Z"
   },
   {
    "duration": 588,
    "start_time": "2022-01-11T22:00:59.087Z"
   },
   {
    "duration": 589,
    "start_time": "2022-01-11T22:00:59.093Z"
   },
   {
    "duration": 588,
    "start_time": "2022-01-11T22:00:59.100Z"
   },
   {
    "duration": 587,
    "start_time": "2022-01-11T22:00:59.104Z"
   },
   {
    "duration": 586,
    "start_time": "2022-01-11T22:00:59.108Z"
   },
   {
    "duration": 128,
    "start_time": "2022-01-11T22:01:27.442Z"
   },
   {
    "duration": 538,
    "start_time": "2022-01-11T22:01:27.573Z"
   },
   {
    "duration": 97,
    "start_time": "2022-01-11T22:01:28.113Z"
   },
   {
    "duration": 71,
    "start_time": "2022-01-11T22:01:28.213Z"
   },
   {
    "duration": 4889,
    "start_time": "2022-01-11T22:01:28.286Z"
   },
   {
    "duration": 35,
    "start_time": "2022-01-11T22:01:33.178Z"
   },
   {
    "duration": 8067,
    "start_time": "2022-01-11T22:01:33.215Z"
   },
   {
    "duration": 1165,
    "start_time": "2022-01-11T22:01:41.285Z"
   },
   {
    "duration": 1131,
    "start_time": "2022-01-11T22:01:42.453Z"
   },
   {
    "duration": 13,
    "start_time": "2022-01-11T22:01:43.586Z"
   },
   {
    "duration": 20,
    "start_time": "2022-01-11T22:01:43.601Z"
   },
   {
    "duration": 793,
    "start_time": "2022-01-11T22:01:43.624Z"
   },
   {
    "duration": 1619,
    "start_time": "2022-01-11T22:02:52.760Z"
   },
   {
    "duration": 1213,
    "start_time": "2022-01-11T22:03:08.225Z"
   },
   {
    "duration": 1172,
    "start_time": "2022-01-11T22:03:28.624Z"
   },
   {
    "duration": 1430,
    "start_time": "2022-01-11T22:03:32.849Z"
   },
   {
    "duration": 1446,
    "start_time": "2022-01-11T22:03:56.841Z"
   },
   {
    "duration": 1303,
    "start_time": "2022-01-11T22:04:09.625Z"
   },
   {
    "duration": 1416,
    "start_time": "2022-01-11T22:06:41.091Z"
   },
   {
    "duration": 1451,
    "start_time": "2022-01-11T22:06:59.811Z"
   },
   {
    "duration": 1288,
    "start_time": "2022-01-11T22:07:15.483Z"
   },
   {
    "duration": 696,
    "start_time": "2022-01-11T22:08:26.925Z"
   },
   {
    "duration": 99,
    "start_time": "2022-01-11T22:10:37.335Z"
   },
   {
    "duration": 1086,
    "start_time": "2022-01-11T22:10:42.958Z"
   },
   {
    "duration": 1462,
    "start_time": "2022-01-11T22:11:09.598Z"
   },
   {
    "duration": 1462,
    "start_time": "2022-01-11T22:12:07.264Z"
   },
   {
    "duration": 1528,
    "start_time": "2022-01-11T22:13:23.416Z"
   },
   {
    "duration": 2128,
    "start_time": "2022-01-11T22:14:12.992Z"
   },
   {
    "duration": 2159,
    "start_time": "2022-01-11T22:15:02.145Z"
   },
   {
    "duration": 1424,
    "start_time": "2022-01-11T22:15:10.009Z"
   },
   {
    "duration": 1426,
    "start_time": "2022-01-11T22:19:38.205Z"
   },
   {
    "duration": 96,
    "start_time": "2022-01-11T22:20:33.677Z"
   },
   {
    "duration": 1748,
    "start_time": "2022-01-11T22:20:39.014Z"
   },
   {
    "duration": 1647,
    "start_time": "2022-01-11T22:20:58.861Z"
   },
   {
    "duration": 1883,
    "start_time": "2022-01-11T22:21:49.558Z"
   },
   {
    "duration": 1927,
    "start_time": "2022-01-11T22:22:14.204Z"
   },
   {
    "duration": 2560,
    "start_time": "2022-01-11T22:23:31.192Z"
   },
   {
    "duration": 2464,
    "start_time": "2022-01-11T22:24:25.520Z"
   },
   {
    "duration": 29,
    "start_time": "2022-01-11T22:24:59.668Z"
   },
   {
    "duration": 31,
    "start_time": "2022-01-11T22:25:44.617Z"
   },
   {
    "duration": 306,
    "start_time": "2022-01-11T22:26:39.202Z"
   },
   {
    "duration": 36,
    "start_time": "2022-01-11T22:26:53.099Z"
   },
   {
    "duration": 43,
    "start_time": "2022-01-11T22:26:57.250Z"
   },
   {
    "duration": 44,
    "start_time": "2022-01-11T22:27:00.483Z"
   },
   {
    "duration": 51,
    "start_time": "2022-01-11T22:27:06.650Z"
   },
   {
    "duration": 57,
    "start_time": "2022-01-11T22:27:09.737Z"
   },
   {
    "duration": 68,
    "start_time": "2022-01-11T22:27:12.561Z"
   },
   {
    "duration": 70,
    "start_time": "2022-01-11T22:27:15.010Z"
   },
   {
    "duration": 89,
    "start_time": "2022-01-11T22:27:55.195Z"
   },
   {
    "duration": 6,
    "start_time": "2022-01-11T22:48:26.546Z"
   },
   {
    "duration": 13,
    "start_time": "2022-01-11T22:48:32.692Z"
   },
   {
    "duration": 20,
    "start_time": "2022-01-11T22:48:54.106Z"
   },
   {
    "duration": 41,
    "start_time": "2022-01-11T22:49:09.754Z"
   },
   {
    "duration": 290,
    "start_time": "2022-01-11T22:49:27.403Z"
   },
   {
    "duration": 32,
    "start_time": "2022-01-11T22:51:26.531Z"
   },
   {
    "duration": 45,
    "start_time": "2022-01-11T22:51:51.873Z"
   },
   {
    "duration": 304,
    "start_time": "2022-01-11T22:52:14.780Z"
   },
   {
    "duration": 44,
    "start_time": "2022-01-11T22:52:23.332Z"
   },
   {
    "duration": 281,
    "start_time": "2022-01-11T22:53:26.318Z"
   },
   {
    "duration": 301,
    "start_time": "2022-01-11T22:53:37.941Z"
   },
   {
    "duration": 479,
    "start_time": "2022-01-11T22:53:49.765Z"
   },
   {
    "duration": 43,
    "start_time": "2022-01-11T22:53:59.877Z"
   },
   {
    "duration": 42,
    "start_time": "2022-01-11T22:54:23.373Z"
   },
   {
    "duration": 307,
    "start_time": "2022-01-11T22:54:33.837Z"
   },
   {
    "duration": 43,
    "start_time": "2022-01-11T23:00:25.938Z"
   },
   {
    "duration": 313,
    "start_time": "2022-01-11T23:00:47.075Z"
   },
   {
    "duration": 43,
    "start_time": "2022-01-11T23:00:57.441Z"
   },
   {
    "duration": 45,
    "start_time": "2022-01-11T23:02:54.260Z"
   },
   {
    "duration": 43,
    "start_time": "2022-01-11T23:06:40.567Z"
   },
   {
    "duration": 327,
    "start_time": "2022-01-11T23:06:52.480Z"
   },
   {
    "duration": 306,
    "start_time": "2022-01-11T23:07:00.791Z"
   },
   {
    "duration": 87,
    "start_time": "2022-01-11T23:07:12.288Z"
   },
   {
    "duration": 42,
    "start_time": "2022-01-11T23:07:16.679Z"
   },
   {
    "duration": 44,
    "start_time": "2022-01-11T23:07:32.248Z"
   },
   {
    "duration": 298,
    "start_time": "2022-01-11T23:07:47.385Z"
   },
   {
    "duration": 44,
    "start_time": "2022-01-11T23:07:54.904Z"
   },
   {
    "duration": 290,
    "start_time": "2022-01-11T23:08:35.297Z"
   },
   {
    "duration": 287,
    "start_time": "2022-01-11T23:08:46.744Z"
   },
   {
    "duration": 44,
    "start_time": "2022-01-11T23:08:50.313Z"
   },
   {
    "duration": 289,
    "start_time": "2022-01-11T23:09:08.584Z"
   },
   {
    "duration": 357,
    "start_time": "2022-01-11T23:09:19.146Z"
   },
   {
    "duration": 44,
    "start_time": "2022-01-11T23:09:21.921Z"
   },
   {
    "duration": 38,
    "start_time": "2022-01-11T23:10:06.105Z"
   },
   {
    "duration": 39,
    "start_time": "2022-01-11T23:10:18.602Z"
   },
   {
    "duration": 40,
    "start_time": "2022-01-11T23:10:27.194Z"
   },
   {
    "duration": 765,
    "start_time": "2022-01-12T08:25:05.973Z"
   },
   {
    "duration": 338,
    "start_time": "2022-01-12T08:25:06.740Z"
   },
   {
    "duration": 54,
    "start_time": "2022-01-12T08:25:07.080Z"
   },
   {
    "duration": 28,
    "start_time": "2022-01-12T08:25:07.136Z"
   },
   {
    "duration": 2823,
    "start_time": "2022-01-12T08:25:07.166Z"
   },
   {
    "duration": 24,
    "start_time": "2022-01-12T08:25:09.992Z"
   },
   {
    "duration": 4858,
    "start_time": "2022-01-12T08:25:10.018Z"
   },
   {
    "duration": 786,
    "start_time": "2022-01-12T08:25:14.878Z"
   },
   {
    "duration": 658,
    "start_time": "2022-01-12T08:25:15.666Z"
   },
   {
    "duration": 9,
    "start_time": "2022-01-12T08:25:16.326Z"
   },
   {
    "duration": 64,
    "start_time": "2022-01-12T08:25:16.337Z"
   },
   {
    "duration": 1639,
    "start_time": "2022-01-12T08:25:16.403Z"
   },
   {
    "duration": 25,
    "start_time": "2022-01-12T08:25:18.044Z"
   },
   {
    "duration": 34,
    "start_time": "2022-01-12T08:25:28.080Z"
   },
   {
    "duration": 25,
    "start_time": "2022-01-12T08:25:37.391Z"
   },
   {
    "duration": 35,
    "start_time": "2022-01-12T08:25:48.332Z"
   },
   {
    "duration": 32,
    "start_time": "2022-01-12T08:26:14.244Z"
   },
   {
    "duration": 28,
    "start_time": "2022-01-12T08:26:26.773Z"
   },
   {
    "duration": 27,
    "start_time": "2022-01-12T08:26:59.310Z"
   },
   {
    "duration": 30,
    "start_time": "2022-01-12T08:27:56.821Z"
   },
   {
    "duration": 38,
    "start_time": "2022-01-12T08:32:51.942Z"
   },
   {
    "duration": 40,
    "start_time": "2022-01-12T08:33:37.217Z"
   },
   {
    "duration": 513,
    "start_time": "2022-01-12T08:34:44.626Z"
   },
   {
    "duration": 42,
    "start_time": "2022-01-12T08:34:54.442Z"
   },
   {
    "duration": 232,
    "start_time": "2022-01-12T08:36:38.637Z"
   },
   {
    "duration": 6566,
    "start_time": "2022-01-12T08:37:57.916Z"
   },
   {
    "duration": 227,
    "start_time": "2022-01-12T08:38:11.444Z"
   },
   {
    "duration": 239,
    "start_time": "2022-01-12T08:38:29.468Z"
   },
   {
    "duration": 221,
    "start_time": "2022-01-12T08:38:38.572Z"
   },
   {
    "duration": 289,
    "start_time": "2022-01-12T08:39:58.757Z"
   },
   {
    "duration": 234,
    "start_time": "2022-01-12T08:42:08.119Z"
   },
   {
    "duration": 218,
    "start_time": "2022-01-12T08:42:52.728Z"
   },
   {
    "duration": 253,
    "start_time": "2022-01-12T08:43:02.967Z"
   },
   {
    "duration": 243,
    "start_time": "2022-01-12T08:43:50.536Z"
   },
   {
    "duration": 240,
    "start_time": "2022-01-12T08:44:04.968Z"
   },
   {
    "duration": 244,
    "start_time": "2022-01-12T08:44:26.263Z"
   },
   {
    "duration": 179,
    "start_time": "2022-01-12T08:49:58.066Z"
   },
   {
    "duration": 192,
    "start_time": "2022-01-12T08:50:17.547Z"
   },
   {
    "duration": 5,
    "start_time": "2022-01-12T08:50:23.876Z"
   },
   {
    "duration": 5,
    "start_time": "2022-01-12T08:50:32.532Z"
   },
   {
    "duration": 6,
    "start_time": "2022-01-12T08:50:43.908Z"
   },
   {
    "duration": 6,
    "start_time": "2022-01-12T08:51:04.212Z"
   },
   {
    "duration": 55,
    "start_time": "2022-01-12T08:54:43.590Z"
   },
   {
    "duration": 279,
    "start_time": "2022-01-12T08:54:47.455Z"
   },
   {
    "duration": 36,
    "start_time": "2022-01-12T09:14:48.074Z"
   },
   {
    "duration": 36,
    "start_time": "2022-01-12T09:14:57.180Z"
   },
   {
    "duration": 38,
    "start_time": "2022-01-12T09:15:14.164Z"
   },
   {
    "duration": 21,
    "start_time": "2022-01-12T09:19:42.553Z"
   },
   {
    "duration": 38,
    "start_time": "2022-01-12T09:21:18.116Z"
   },
   {
    "duration": 23,
    "start_time": "2022-01-12T09:21:21.792Z"
   },
   {
    "duration": 39,
    "start_time": "2022-01-12T09:29:07.046Z"
   },
   {
    "duration": 21,
    "start_time": "2022-01-12T09:29:11.560Z"
   },
   {
    "duration": 92,
    "start_time": "2022-01-12T09:30:08.923Z"
   },
   {
    "duration": 335,
    "start_time": "2022-01-12T09:30:09.017Z"
   },
   {
    "duration": 61,
    "start_time": "2022-01-12T09:30:09.355Z"
   },
   {
    "duration": 31,
    "start_time": "2022-01-12T09:30:09.418Z"
   },
   {
    "duration": 2827,
    "start_time": "2022-01-12T09:30:09.451Z"
   },
   {
    "duration": 28,
    "start_time": "2022-01-12T09:30:12.280Z"
   },
   {
    "duration": 4930,
    "start_time": "2022-01-12T09:30:12.310Z"
   },
   {
    "duration": 675,
    "start_time": "2022-01-12T09:30:17.242Z"
   },
   {
    "duration": 832,
    "start_time": "2022-01-12T09:30:17.919Z"
   },
   {
    "duration": 11,
    "start_time": "2022-01-12T09:30:18.761Z"
   },
   {
    "duration": 52,
    "start_time": "2022-01-12T09:30:18.774Z"
   },
   {
    "duration": 1785,
    "start_time": "2022-01-12T09:30:18.828Z"
   },
   {
    "duration": 28,
    "start_time": "2022-01-12T09:30:20.615Z"
   },
   {
    "duration": 258,
    "start_time": "2022-01-12T09:30:20.644Z"
   },
   {
    "duration": 6,
    "start_time": "2022-01-12T09:30:20.904Z"
   },
   {
    "duration": 260,
    "start_time": "2022-01-12T09:30:20.912Z"
   },
   {
    "duration": 52,
    "start_time": "2022-01-12T09:30:21.174Z"
   },
   {
    "duration": 22,
    "start_time": "2022-01-12T09:30:21.228Z"
   },
   {
    "duration": 101,
    "start_time": "2022-01-12T09:31:54.396Z"
   },
   {
    "duration": 333,
    "start_time": "2022-01-12T09:31:54.499Z"
   },
   {
    "duration": 59,
    "start_time": "2022-01-12T09:31:54.834Z"
   },
   {
    "duration": 30,
    "start_time": "2022-01-12T09:31:54.895Z"
   },
   {
    "duration": 2865,
    "start_time": "2022-01-12T09:31:54.927Z"
   },
   {
    "duration": 24,
    "start_time": "2022-01-12T09:31:57.794Z"
   },
   {
    "duration": 5081,
    "start_time": "2022-01-12T09:31:57.820Z"
   },
   {
    "duration": 690,
    "start_time": "2022-01-12T09:32:02.903Z"
   },
   {
    "duration": 832,
    "start_time": "2022-01-12T09:32:03.595Z"
   },
   {
    "duration": 10,
    "start_time": "2022-01-12T09:32:04.428Z"
   },
   {
    "duration": 64,
    "start_time": "2022-01-12T09:32:04.439Z"
   },
   {
    "duration": 1756,
    "start_time": "2022-01-12T09:32:04.505Z"
   },
   {
    "duration": 39,
    "start_time": "2022-01-12T09:32:06.263Z"
   },
   {
    "duration": 257,
    "start_time": "2022-01-12T09:32:06.304Z"
   },
   {
    "duration": 7,
    "start_time": "2022-01-12T09:32:06.563Z"
   },
   {
    "duration": 272,
    "start_time": "2022-01-12T09:32:06.572Z"
   },
   {
    "duration": 46,
    "start_time": "2022-01-12T09:32:06.846Z"
   },
   {
    "duration": 21,
    "start_time": "2022-01-12T09:32:06.894Z"
   },
   {
    "duration": 4652,
    "start_time": "2022-01-12T09:37:03.308Z"
   },
   {
    "duration": 24,
    "start_time": "2022-01-12T09:37:27.974Z"
   },
   {
    "duration": 37,
    "start_time": "2022-01-12T09:40:02.740Z"
   },
   {
    "duration": 398,
    "start_time": "2022-01-12T09:43:22.312Z"
   },
   {
    "duration": 228,
    "start_time": "2022-01-12T09:43:46.137Z"
   },
   {
    "duration": 230,
    "start_time": "2022-01-12T09:44:12.850Z"
   }
  ],
  "kernelspec": {
   "display_name": "Python 3",
   "language": "python",
   "name": "python3"
  },
  "language_info": {
   "codemirror_mode": {
    "name": "ipython",
    "version": 3
   },
   "file_extension": ".py",
   "mimetype": "text/x-python",
   "name": "python",
   "nbconvert_exporter": "python",
   "pygments_lexer": "ipython3",
   "version": "3.7.8"
  },
  "toc": {
   "base_numbering": 1,
   "nav_menu": {},
   "number_sections": true,
   "sideBar": true,
   "skip_h1_title": true,
   "title_cell": "Содержание",
   "title_sidebar": "Contents",
   "toc_cell": true,
   "toc_position": {
    "height": "calc(100% - 180px)",
    "left": "10px",
    "top": "150px",
    "width": "409.097px"
   },
   "toc_section_display": true,
   "toc_window_display": true
  }
 },
 "nbformat": 4,
 "nbformat_minor": 2
}
